{
 "cells": [
  {
   "cell_type": "code",
   "execution_count": 1,
   "metadata": {
    "collapsed": false
   },
   "outputs": [],
   "source": [
    "import os\n",
    "import pandas as pd\n",
    "import re\n",
    "import matplotlib.pyplot as plt\n",
    "import numpy as np\n",
    "%matplotlib inline\n",
    "from scipy import stats\n",
    "import statsmodels.api as sm\n",
    "import statsmodels.formula.api as smf\n",
    "import statsmodels.graphics.api as smg\n",
    "import patsy"
   ]
  },
  {
   "cell_type": "code",
   "execution_count": 105,
   "metadata": {
    "collapsed": true
   },
   "outputs": [],
   "source": [
    "books = []\n",
    "for file in os.listdir(os.getcwd()):\n",
    "    if file.endswith('.json'):\n",
    "        books.append(file)\n",
    "        \n",
    "df = pd.DataFrame()\n",
    "for book in books:\n",
    "    df1 = pd.read_json(book)\n",
    "    df = df.append(df1)\n",
    "    \n"
   ]
  },
  {
   "cell_type": "code",
   "execution_count": 157,
   "metadata": {
    "collapsed": false
   },
   "outputs": [
    {
     "data": {
      "text/html": [
       "<div>\n",
       "<table border=\"1\" class=\"dataframe\">\n",
       "  <thead>\n",
       "    <tr style=\"text-align: right;\">\n",
       "      <th></th>\n",
       "      <th>author</th>\n",
       "      <th>book_id</th>\n",
       "      <th>category</th>\n",
       "      <th>desc</th>\n",
       "      <th>eveluate_nums</th>\n",
       "      <th>price</th>\n",
       "      <th>publisher</th>\n",
       "      <th>score</th>\n",
       "      <th>table_contents</th>\n",
       "      <th>tags</th>\n",
       "      <th>title</th>\n",
       "      <th>url</th>\n",
       "    </tr>\n",
       "  </thead>\n",
       "  <tbody>\n",
       "    <tr>\n",
       "      <th>0</th>\n",
       "      <td>〔法〕古斯塔夫 · 勒庞</td>\n",
       "      <td>11173912</td>\n",
       "      <td>图书 / 非虚构</td>\n",
       "      <td>《乌合之众》是一本当之无愧的名著，他极为精致地描述了集体心态，是在社会心理学领域已经写出的著...</td>\n",
       "      <td>28087</td>\n",
       "      <td>5.99</td>\n",
       "      <td>中央编译出版社</td>\n",
       "      <td>8.3</td>\n",
       "      <td>[被遗忘了的勒庞, 研究的两个起点, 低劣的群体心态, 群体的“道德”, 英雄与群众, 结语...</td>\n",
       "      <td>[心理学, 大众心理学, 社会学, 乌合之众, 群体心理, 贺岁书]</td>\n",
       "      <td>乌合之众：大众心理研究</td>\n",
       "      <td>https://read.douban.com/ebook/11173912/</td>\n",
       "    </tr>\n",
       "    <tr>\n",
       "      <th>1</th>\n",
       "      <td>〔法〕古斯塔夫·勒庞</td>\n",
       "      <td>20092726</td>\n",
       "      <td>图书 / 非虚构</td>\n",
       "      <td>《乌合之众》细致描述了群体心理的一般特征，分析了人们在群聚状态下的心理、道德、行为特征。解释...</td>\n",
       "      <td>57</td>\n",
       "      <td>2.99</td>\n",
       "      <td>译林出版社</td>\n",
       "      <td>7.3</td>\n",
       "      <td>[　群体的一般特征，精神统一性的心理法则, 　群体的情感与道德, 　群体的观念、推理和想象力...</td>\n",
       "      <td>[心理学, 大众心理学, 人文, 社会科学, 限时特价, 勒庞]</td>\n",
       "      <td>乌合之众：大众心理研究</td>\n",
       "      <td>https://read.douban.com/ebook/20092726/</td>\n",
       "    </tr>\n",
       "    <tr>\n",
       "      <th>2</th>\n",
       "      <td>采铜</td>\n",
       "      <td>21820932</td>\n",
       "      <td>图书 / 非虚构</td>\n",
       "      <td>盲目的努力，只是一种缓慢的叠加。在《精进：如何成为一个很厉害的人》中，作者提出了一种更有效的...</td>\n",
       "      <td>4161</td>\n",
       "      <td>12.00</td>\n",
       "      <td>凤凰联动</td>\n",
       "      <td>7.8</td>\n",
       "      <td>[活在“全部的现在” 从当下出发，联结过去与未来, 对五年后的自己提问 如何解决远期未来与近...</td>\n",
       "      <td>[心理学, 成长, 思维, 管理]</td>\n",
       "      <td>精进：如何成为一个很厉害的人</td>\n",
       "      <td>https://read.douban.com/ebook/21820932/</td>\n",
       "    </tr>\n",
       "    <tr>\n",
       "      <th>3</th>\n",
       "      <td>〔奥〕阿尔弗雷德·阿德勒</td>\n",
       "      <td>19027390</td>\n",
       "      <td>图书 / 非虚构</td>\n",
       "      <td>《自卑与超越》是个体心理学的先驱阿德勒的代表作，作者从探寻人生的意义出发，启迪我们去理解真实...</td>\n",
       "      <td>223</td>\n",
       "      <td>1.99</td>\n",
       "      <td>斯坦威图书</td>\n",
       "      <td>7.2</td>\n",
       "      <td>[阿德勒：超越自卑，找到生命的真正意义]</td>\n",
       "      <td>[心理学, 哲学, 生活, 精神分析, 弗洛伊德]</td>\n",
       "      <td>自卑与超越（新版）</td>\n",
       "      <td>https://read.douban.com/ebook/19027390/</td>\n",
       "    </tr>\n",
       "    <tr>\n",
       "      <th>4</th>\n",
       "      <td>〔奥〕阿尔弗雷德·阿德勒</td>\n",
       "      <td>18213349</td>\n",
       "      <td>图书 / 非虚构</td>\n",
       "      <td>本书是现代社会人类必读的个体心理学经典。作者阿尔弗雷德，个体心理学的开创者，通过深入剖析与研...</td>\n",
       "      <td>86</td>\n",
       "      <td>6.99</td>\n",
       "      <td>果麦文化</td>\n",
       "      <td>7.2</td>\n",
       "      <td>[生理缺陷, 溺爱, 忽视, 强化生活方式, 象征与隐喻, 长子女, 次子女, 幼子女, 独...</td>\n",
       "      <td>[经典, 心理学, 人性, 思考]</td>\n",
       "      <td>自卑与超越</td>\n",
       "      <td>https://read.douban.com/ebook/18213349/</td>\n",
       "    </tr>\n",
       "    <tr>\n",
       "      <th>5</th>\n",
       "      <td>〔德〕格尔德·米策尔</td>\n",
       "      <td>10787606</td>\n",
       "      <td>图书 / 非虚构</td>\n",
       "      <td>《心理学入门》作者用读者耳熟能详的语言进行描述，选用专业术语慎之又慎。该著不略过最基础的知识...</td>\n",
       "      <td>87</td>\n",
       "      <td>26.40</td>\n",
       "      <td>中央编译出版社</td>\n",
       "      <td>8.6</td>\n",
       "      <td>[前言, 心理学的宗旨、观点和应用, 1　研究人的行为和经历是心理学的任务, 2　心理学是研...</td>\n",
       "      <td>[经典, 心理学, 心理, 心灵]</td>\n",
       "      <td>心理学入门</td>\n",
       "      <td>https://read.douban.com/ebook/10787606/</td>\n",
       "    </tr>\n",
       "    <tr>\n",
       "      <th>6</th>\n",
       "      <td>〔法〕古斯塔夫·勒庞</td>\n",
       "      <td>1239493</td>\n",
       "      <td>图书 / 非虚构</td>\n",
       "      <td>《乌合之众：大众心理研究》为社会心理学领域的经典著作，至今已被翻译成近20种语言出版。在书中...</td>\n",
       "      <td>663</td>\n",
       "      <td>13.00</td>\n",
       "      <td>理想国</td>\n",
       "      <td>8.2</td>\n",
       "      <td>[乌合之众, 勒庞《乌合之众》的得与失, 作者前言, 导 言：群体的时代, 第一卷 群体心理...</td>\n",
       "      <td>[心理学, 社会学, 人文社科, 群体心理学, 乌合之众, 勒庞, 开学季, 了解世界]</td>\n",
       "      <td>乌合之众：大众心理研究</td>\n",
       "      <td>https://read.douban.com/ebook/1239493/</td>\n",
       "    </tr>\n",
       "    <tr>\n",
       "      <th>7</th>\n",
       "      <td>〔日〕渡边淳一</td>\n",
       "      <td>13351834</td>\n",
       "      <td>图书 / 虚构</td>\n",
       "      <td>医生出身的性爱文学大师渡边淳一，旨在以此书为两性架起互相认知的桥梁，让女性深入地了解男人，同...</td>\n",
       "      <td>866</td>\n",
       "      <td>11.94</td>\n",
       "      <td>磨铁数盟</td>\n",
       "      <td>7.6</td>\n",
       "      <td>[前言, 　幼少期, 　彷徨与决断, 　性爱的精神性, 　处女情结, 　肉体的记忆, 　男人...</td>\n",
       "      <td>[心理学, 日本, 心理, 男人, 两性, 渡边淳一, 两性情爱指引四部曲]</td>\n",
       "      <td>男人这东西</td>\n",
       "      <td>https://read.douban.com/ebook/13351834/</td>\n",
       "    </tr>\n",
       "    <tr>\n",
       "      <th>8</th>\n",
       "      <td>〔美〕丹尼尔·凯斯</td>\n",
       "      <td>11337239</td>\n",
       "      <td>图书 / 虚构</td>\n",
       "      <td>1977年，美国俄亥俄州连续强暴案嫌犯比利·米利根被警方逮捕，但是他对自己犯下的罪行居然毫无...</td>\n",
       "      <td>6911</td>\n",
       "      <td>20.00</td>\n",
       "      <td>N</td>\n",
       "      <td>8.2</td>\n",
       "      <td>[致谢, 序言, 内在人格, 第一部 混乱时期, , , , , , , 第二部 老师诞生,...</td>\n",
       "      <td>[小说, 心理学, 心理, 美国, 外国文学, 犯罪, 多重人格, 丹尼尔·凯斯]</td>\n",
       "      <td>24个比利</td>\n",
       "      <td>https://read.douban.com/ebook/11337239/</td>\n",
       "    </tr>\n",
       "    <tr>\n",
       "      <th>9</th>\n",
       "      <td>〔法〕居斯塔夫·勒庞</td>\n",
       "      <td>10659302</td>\n",
       "      <td>图书 / 非虚构</td>\n",
       "      <td>《乌合之众》是群体心理学的开山之作，在群体社会学方面，再也没有哪一本书像这本书这样深刻地影响...</td>\n",
       "      <td>1124</td>\n",
       "      <td>7.99</td>\n",
       "      <td>果麦文化</td>\n",
       "      <td>8.4</td>\n",
       "      <td>[译本前言, 序, 引言——群体的时代, 卷一　群体的心理,  群体的一般特征　群体精神统一...</td>\n",
       "      <td>[心理学, 社会学, 人文社科, 群体心理学, 乌合之众, 勒庞, 果麦经典]</td>\n",
       "      <td>乌合之众：大众心理研究（法文原版中译本）</td>\n",
       "      <td>https://read.douban.com/ebook/10659302/</td>\n",
       "    </tr>\n",
       "  </tbody>\n",
       "</table>\n",
       "</div>"
      ],
      "text/plain": [
       "         author   book_id   category  \\\n",
       "0  〔法〕古斯塔夫 · 勒庞  11173912  图书 / 非虚构    \n",
       "1    〔法〕古斯塔夫·勒庞  20092726  图书 / 非虚构    \n",
       "2            采铜  21820932  图书 / 非虚构    \n",
       "3  〔奥〕阿尔弗雷德·阿德勒  19027390  图书 / 非虚构    \n",
       "4  〔奥〕阿尔弗雷德·阿德勒  18213349  图书 / 非虚构    \n",
       "5    〔德〕格尔德·米策尔  10787606  图书 / 非虚构    \n",
       "6    〔法〕古斯塔夫·勒庞   1239493  图书 / 非虚构    \n",
       "7       〔日〕渡边淳一  13351834   图书 / 虚构    \n",
       "8    〔美〕丹尼尔·凯斯   11337239   图书 / 虚构    \n",
       "9    〔法〕居斯塔夫·勒庞  10659302  图书 / 非虚构    \n",
       "\n",
       "                                                desc  eveluate_nums  price  \\\n",
       "0  《乌合之众》是一本当之无愧的名著，他极为精致地描述了集体心态，是在社会心理学领域已经写出的著...          28087   5.99   \n",
       "1  《乌合之众》细致描述了群体心理的一般特征，分析了人们在群聚状态下的心理、道德、行为特征。解释...             57   2.99   \n",
       "2  盲目的努力，只是一种缓慢的叠加。在《精进：如何成为一个很厉害的人》中，作者提出了一种更有效的...           4161  12.00   \n",
       "3  《自卑与超越》是个体心理学的先驱阿德勒的代表作，作者从探寻人生的意义出发，启迪我们去理解真实...            223   1.99   \n",
       "4  本书是现代社会人类必读的个体心理学经典。作者阿尔弗雷德，个体心理学的开创者，通过深入剖析与研...             86   6.99   \n",
       "5  《心理学入门》作者用读者耳熟能详的语言进行描述，选用专业术语慎之又慎。该著不略过最基础的知识...             87  26.40   \n",
       "6  《乌合之众：大众心理研究》为社会心理学领域的经典著作，至今已被翻译成近20种语言出版。在书中...            663  13.00   \n",
       "7  医生出身的性爱文学大师渡边淳一，旨在以此书为两性架起互相认知的桥梁，让女性深入地了解男人，同...            866  11.94   \n",
       "8  1977年，美国俄亥俄州连续强暴案嫌犯比利·米利根被警方逮捕，但是他对自己犯下的罪行居然毫无...           6911  20.00   \n",
       "9  《乌合之众》是群体心理学的开山之作，在群体社会学方面，再也没有哪一本书像这本书这样深刻地影响...           1124   7.99   \n",
       "\n",
       "  publisher  score                                     table_contents  \\\n",
       "0   中央编译出版社    8.3  [被遗忘了的勒庞, 研究的两个起点, 低劣的群体心态, 群体的“道德”, 英雄与群众, 结语...   \n",
       "1     译林出版社    7.3  [　群体的一般特征，精神统一性的心理法则, 　群体的情感与道德, 　群体的观念、推理和想象力...   \n",
       "2      凤凰联动    7.8  [活在“全部的现在” 从当下出发，联结过去与未来, 对五年后的自己提问 如何解决远期未来与近...   \n",
       "3     斯坦威图书    7.2                               [阿德勒：超越自卑，找到生命的真正意义]   \n",
       "4      果麦文化    7.2  [生理缺陷, 溺爱, 忽视, 强化生活方式, 象征与隐喻, 长子女, 次子女, 幼子女, 独...   \n",
       "5   中央编译出版社    8.6  [前言, 心理学的宗旨、观点和应用, 1　研究人的行为和经历是心理学的任务, 2　心理学是研...   \n",
       "6       理想国    8.2  [乌合之众, 勒庞《乌合之众》的得与失, 作者前言, 导 言：群体的时代, 第一卷 群体心理...   \n",
       "7      磨铁数盟    7.6  [前言, 　幼少期, 　彷徨与决断, 　性爱的精神性, 　处女情结, 　肉体的记忆, 　男人...   \n",
       "8         N    8.2  [致谢, 序言, 内在人格, 第一部 混乱时期, , , , , , , 第二部 老师诞生,...   \n",
       "9      果麦文化    8.4  [译本前言, 序, 引言——群体的时代, 卷一　群体的心理,  群体的一般特征　群体精神统一...   \n",
       "\n",
       "                                           tags                 title  \\\n",
       "0            [心理学, 大众心理学, 社会学, 乌合之众, 群体心理, 贺岁书]           乌合之众：大众心理研究   \n",
       "1              [心理学, 大众心理学, 人文, 社会科学, 限时特价, 勒庞]           乌合之众：大众心理研究   \n",
       "2                             [心理学, 成长, 思维, 管理]        精进：如何成为一个很厉害的人   \n",
       "3                     [心理学, 哲学, 生活, 精神分析, 弗洛伊德]             自卑与超越（新版）   \n",
       "4                             [经典, 心理学, 人性, 思考]                 自卑与超越   \n",
       "5                             [经典, 心理学, 心理, 心灵]                 心理学入门   \n",
       "6  [心理学, 社会学, 人文社科, 群体心理学, 乌合之众, 勒庞, 开学季, 了解世界]           乌合之众：大众心理研究   \n",
       "7        [心理学, 日本, 心理, 男人, 两性, 渡边淳一, 两性情爱指引四部曲]                 男人这东西   \n",
       "8     [小说, 心理学, 心理, 美国, 外国文学, 犯罪, 多重人格, 丹尼尔·凯斯]                 24个比利   \n",
       "9       [心理学, 社会学, 人文社科, 群体心理学, 乌合之众, 勒庞, 果麦经典]  乌合之众：大众心理研究（法文原版中译本）   \n",
       "\n",
       "                                       url  \n",
       "0  https://read.douban.com/ebook/11173912/  \n",
       "1  https://read.douban.com/ebook/20092726/  \n",
       "2  https://read.douban.com/ebook/21820932/  \n",
       "3  https://read.douban.com/ebook/19027390/  \n",
       "4  https://read.douban.com/ebook/18213349/  \n",
       "5  https://read.douban.com/ebook/10787606/  \n",
       "6   https://read.douban.com/ebook/1239493/  \n",
       "7  https://read.douban.com/ebook/13351834/  \n",
       "8  https://read.douban.com/ebook/11337239/  \n",
       "9  https://read.douban.com/ebook/10659302/  "
      ]
     },
     "execution_count": 157,
     "metadata": {},
     "output_type": "execute_result"
    }
   ],
   "source": [
    "df.head(10)"
   ]
  },
  {
   "cell_type": "code",
   "execution_count": 156,
   "metadata": {
    "collapsed": false
   },
   "outputs": [
    {
     "data": {
      "text/html": [
       "<div>\n",
       "<table border=\"1\" class=\"dataframe\">\n",
       "  <thead>\n",
       "    <tr style=\"text-align: right;\">\n",
       "      <th></th>\n",
       "      <th>book_id</th>\n",
       "      <th>eveluate_nums</th>\n",
       "      <th>price</th>\n",
       "      <th>score</th>\n",
       "    </tr>\n",
       "  </thead>\n",
       "  <tbody>\n",
       "    <tr>\n",
       "      <th>count</th>\n",
       "      <td>1.030000e+03</td>\n",
       "      <td>1030.000000</td>\n",
       "      <td>1030.000000</td>\n",
       "      <td>1030.000000</td>\n",
       "    </tr>\n",
       "    <tr>\n",
       "      <th>mean</th>\n",
       "      <td>1.173454e+07</td>\n",
       "      <td>287.094175</td>\n",
       "      <td>10.931204</td>\n",
       "      <td>3.999612</td>\n",
       "    </tr>\n",
       "    <tr>\n",
       "      <th>std</th>\n",
       "      <td>7.144194e+06</td>\n",
       "      <td>1428.377044</td>\n",
       "      <td>8.372321</td>\n",
       "      <td>3.738895</td>\n",
       "    </tr>\n",
       "    <tr>\n",
       "      <th>min</th>\n",
       "      <td>2.440500e+05</td>\n",
       "      <td>0.000000</td>\n",
       "      <td>0.000000</td>\n",
       "      <td>0.000000</td>\n",
       "    </tr>\n",
       "    <tr>\n",
       "      <th>25%</th>\n",
       "      <td>7.601023e+06</td>\n",
       "      <td>2.000000</td>\n",
       "      <td>5.990000</td>\n",
       "      <td>0.000000</td>\n",
       "    </tr>\n",
       "    <tr>\n",
       "      <th>50%</th>\n",
       "      <td>1.079442e+07</td>\n",
       "      <td>13.500000</td>\n",
       "      <td>9.000000</td>\n",
       "      <td>6.200000</td>\n",
       "    </tr>\n",
       "    <tr>\n",
       "      <th>75%</th>\n",
       "      <td>1.667680e+07</td>\n",
       "      <td>70.000000</td>\n",
       "      <td>14.000000</td>\n",
       "      <td>7.500000</td>\n",
       "    </tr>\n",
       "    <tr>\n",
       "      <th>max</th>\n",
       "      <td>2.741202e+07</td>\n",
       "      <td>28087.000000</td>\n",
       "      <td>116.400000</td>\n",
       "      <td>9.600000</td>\n",
       "    </tr>\n",
       "  </tbody>\n",
       "</table>\n",
       "</div>"
      ],
      "text/plain": [
       "            book_id  eveluate_nums        price        score\n",
       "count  1.030000e+03    1030.000000  1030.000000  1030.000000\n",
       "mean   1.173454e+07     287.094175    10.931204     3.999612\n",
       "std    7.144194e+06    1428.377044     8.372321     3.738895\n",
       "min    2.440500e+05       0.000000     0.000000     0.000000\n",
       "25%    7.601023e+06       2.000000     5.990000     0.000000\n",
       "50%    1.079442e+07      13.500000     9.000000     6.200000\n",
       "75%    1.667680e+07      70.000000    14.000000     7.500000\n",
       "max    2.741202e+07   28087.000000   116.400000     9.600000"
      ]
     },
     "execution_count": 156,
     "metadata": {},
     "output_type": "execute_result"
    }
   ],
   "source": [
    "df.describe()"
   ]
  },
  {
   "cell_type": "code",
   "execution_count": 16,
   "metadata": {
    "collapsed": false
   },
   "outputs": [],
   "source": [
    "def tag_set(tags):\n",
    "    return set(tags)\n"
   ]
  },
  {
   "cell_type": "code",
   "execution_count": 17,
   "metadata": {
    "collapsed": true
   },
   "outputs": [],
   "source": [
    "df.tags=df.tags.apply(tag_set)"
   ]
  },
  {
   "cell_type": "code",
   "execution_count": 23,
   "metadata": {
    "collapsed": false
   },
   "outputs": [],
   "source": [
    "#df_target=('心理学' in df.tags)"
   ]
  },
  {
   "cell_type": "code",
   "execution_count": 131,
   "metadata": {
    "collapsed": false
   },
   "outputs": [
    {
     "name": "stdout",
     "output_type": "stream",
     "text": [
      "author                                                 〔奥〕阿尔弗雷德·阿德勒\n",
      "book_id                                                    19027390\n",
      "category                                                  图书 / 非虚构 \n",
      "desc              《自卑与超越》是个体心理学的先驱阿德勒的代表作，作者从探寻人生的意义出发，启迪我们去理解真实...\n",
      "eveluate_nums                                                   223\n",
      "price                                                          1.99\n",
      "publisher                                                     斯坦威图书\n",
      "score                                                           7.2\n",
      "table_contents                                 [阿德勒：超越自卑，找到生命的真正意义]\n",
      "tags                                      [心理学, 哲学, 生活, 精神分析, 弗洛伊德]\n",
      "title                                                     自卑与超越（新版）\n",
      "url                         https://read.douban.com/ebook/19027390/\n",
      "Name: 3, dtype: object\n",
      "author                                                        meiya\n",
      "book_id                                                     5504534\n",
      "category                                                  图书 / 非虚构 \n",
      "desc              本书预售结束正式上架，预售期间购买的用户将可获得全部内容，其中：Web阅读器用户：全部内容将...\n",
      "eveluate_nums                                                   537\n",
      "price                                                            12\n",
      "publisher                                                    上海雅众文化\n",
      "score                                                           6.8\n",
      "table_contents    [序 你的痛苦并非独一无二，你的努力也并不苍白虚弱,  爱是付出，是成长，是旅程, 是要冷酷...\n",
      "tags                                [心理学, 哲学, 励志, 成长, meiya, 情感与成长]\n",
      "title                                                  他爱的是玫瑰，而你是蔷薇\n",
      "url                          https://read.douban.com/ebook/5504534/\n",
      "Name: 12, dtype: object\n",
      "author                                                 〔奥〕西格蒙德·弗洛伊德\n",
      "book_id                                                     5606260\n",
      "category                                                  图书 / 非虚构 \n",
      "desc              《自我与本我》收录了弗洛伊德后期的三篇成熟作品：《超越唯乐原则》、《集体心理学和自我的分析》...\n",
      "eveluate_nums                                                   538\n",
      "price                                                             6\n",
      "publisher                                                   上海译文出版社\n",
      "score                                                           8.4\n",
      "table_contents    [译者序, 超越唯乐原则, , , , , , , , 集体心理学和自我的分析,  导论, ...\n",
      "tags                         [心理学, 哲学, 心理, 精神分析, 弗洛伊德, 自我与本我, 译文经典]\n",
      "title                                                         自我与本我\n",
      "url                          https://read.douban.com/ebook/5606260/\n",
      "Name: 14, dtype: object\n",
      "author                                                   〔英〕理查德·道金斯\n",
      "book_id                                                     5083852\n",
      "category                                                  图书 / 非虚构 \n",
      "desc              《自私的基因》是20世纪最经典的著作，这版三十周年纪念版，在前版本基础上有两章增补和修订。我...\n",
      "eveluate_nums                                                  3638\n",
      "price                                                            27\n",
      "publisher                                                     中信出版社\n",
      "score                                                           8.7\n",
      "table_contents    [周年版简介, 第二版前言, 序言, 前言,  为什么会有人呢？,  复制基因,  不朽的双...\n",
      "tags                               [科普, 心理学, 哲学, 进化论, 理查德·道金斯, 贺岁书]\n",
      "title                                                         自私的基因\n",
      "url                          https://read.douban.com/ebook/5083852/\n",
      "Name: 15, dtype: object\n",
      "author                                                   〔英〕阿兰·德波顿 \n",
      "book_id                                                     1309624\n",
      "category                                                  图书 / 非虚构 \n",
      "desc              这本书并非一本充满学术语言的“高深”著作。它用通俗、有趣的语言，为现代人解读了“身份”的前世...\n",
      "eveluate_nums                                                  6279\n",
      "price                                                            19\n",
      "publisher                                                   上海译文出版社\n",
      "score                                                           8.2\n",
      "table_contents    [中文版序言, 界 定, 第一部分 焦虑起因,  渴求身份, 追求显耀的身份, 爱的重要性,...\n",
      "tags                        [心理学, 文学, 哲学, 自我, 焦虑, 人文社科, 认识, 阿兰·德波顿]\n",
      "title                                                         身份的焦虑\n",
      "url                          https://read.douban.com/ebook/1309624/\n",
      "Name: 20, dtype: object\n",
      "author                                                      〔奥〕佛洛伊德\n",
      "book_id                                                      655999\n",
      "category                                                  图书 / 非虚构 \n",
      "desc              《梦的解析》最初发表于1900年，被誉为精神分析第一名著。它通过对梦境的科学探索和解释，找破...\n",
      "eveluate_nums                                                    19\n",
      "price                                                          2.98\n",
      "publisher                                                  新华先锋出版科技\n",
      "score                                                           7.9\n",
      "table_contents    [导读,  一九〇〇年之前涉及梦的科学研究,  梦之解析方法的研讨：对于一个梦的解析,  梦...\n",
      "tags                       [经典, 心理学, 哲学, 梦, 精神分析, 佛洛伊德, 夏日阅读, 类型小说]\n",
      "title                                                          梦的解析\n",
      "url                           https://read.douban.com/ebook/655999/\n",
      "Name: 29, dtype: object\n",
      "author                                                           费勇\n",
      "book_id                                                     5332121\n",
      "category                                                  图书 / 非虚构 \n",
      "desc              寒山，唐代避世隐居的禅学高僧，在欧美享有超越李白、杜甫的知名度与追捧。他是美国“垮掉的一代”...\n",
      "eveluate_nums                                                   166\n",
      "price                                                          10.5\n",
      "publisher                                                      凤凰联动\n",
      "score                                                           7.7\n",
      "table_contents    [每时每刻皆为逍遥时光：禅疯子寒山的八堂修心课, 写在前面, 课前课 疯着疯着就逍遥了, 各...\n",
      "tags                                    [心理学, 哲学, 人生, 佛学, 人文社科, 费勇]\n",
      "title                                                    每时每刻皆为逍遥时光\n",
      "url                          https://read.douban.com/ebook/5332121/\n",
      "Name: 37, dtype: object\n",
      "author                                                   〔美〕丹尼尔·丹内特\n",
      "book_id                                                     4546895\n",
      "category                                                  图书 / 非虚构 \n",
      "desc              本书中，作者用缜密的逻辑和丰富的叙述，推理出我们如何在动物世界中独一无二地进化出了赋予我们自...\n",
      "eveluate_nums                                                   132\n",
      "price                                                            18\n",
      "publisher                                                      汉唐阳光\n",
      "score                                                           7.9\n",
      "table_contents    [自由的进化, 序,  自然自由, 认清我们是什么, 我是我所是, 我们呼吸的空气, 小飞象...\n",
      "tags                           [心理学, 哲学, 心理, 进化论, 科学, 人文社科, 出版社巡礼季]\n",
      "title                                                         自由的进化\n",
      "url                          https://read.douban.com/ebook/4546895/\n",
      "Name: 51, dtype: object\n",
      "author                                                          哲不解\n",
      "book_id                                                     2192495\n",
      "category                                                  图书 / 非虚构 \n",
      "desc              这位清华大学哲学女博士本是无心插柳，没想到一夜蹿红。她以清新健雅的笔法写了历史上最著名的二十...\n",
      "eveluate_nums                                                  1461\n",
      "price                                                          5.99\n",
      "publisher                                                      磨铁数盟\n",
      "score                                                           6.7\n",
      "table_contents    [哲学十二钗正册, 老宅男康德, 处女座的黑格尔, 马克思的灵魂, 美女、才女、痴情女：汉娜...\n",
      "tags                                     [科普, 心理学, 哲学, 文化, 哲学家, 西方]\n",
      "title                                                       不疯魔，不哲学\n",
      "url                          https://read.douban.com/ebook/2192495/\n",
      "Name: 55, dtype: object\n",
      "author                                                      〔奥〕弗洛伊德\n",
      "book_id                                                     4575846\n",
      "category                                                  图书 / 非虚构 \n",
      "desc              即日起至7月30日，购买全套《弗洛伊德文集》（ http://dou.bz/0PBMpw）即...\n",
      "eveluate_nums                                                    16\n",
      "price                                                             8\n",
      "publisher                                                      华文天下\n",
      "score                                                             8\n",
      "table_contents    [达·芬奇的童年回忆, 戏剧中的变态人物, 按 语, 詹森的《格拉迪沃》中的幻觉与梦, 按 ...\n",
      "tags                       [心理学, 哲学, 弗洛伊德, 人文社科, 达·芬奇, 车文博, 弗洛伊德文集]\n",
      "title                                                     达·芬奇的童年回忆\n",
      "url                          https://read.douban.com/ebook/4575846/\n",
      "Name: 91, dtype: object\n",
      "author                                                         燕山刀客\n",
      "book_id                                                     2190375\n",
      "category                                                  图书 / 非虚构 \n",
      "desc              王阳明，中国历史上著名的政治家、军事家、哲学家，也是立言、立德、立功三不朽的伟大圣人。他历经...\n",
      "eveluate_nums                                                    23\n",
      "price                                                          9.99\n",
      "publisher                                                      磨铁数盟\n",
      "score                                                           6.9\n",
      "table_contents    [心学圣人：王阳明, 自序 阳明先生，百世之师,  圣人王阳明的少年时代,  科举之路不轻松...\n",
      "tags                                 [小说, 心理学, 哲学, 传记, 王阳明, 心学, 灵修]\n",
      "title                                                      心学圣人：王阳明\n",
      "url                          https://read.douban.com/ebook/2190375/\n",
      "Name: 94, dtype: object\n",
      "author                                                      〔美〕卡思卡特\n",
      "book_id                                                     5168559\n",
      "category                                                  图书 / 非虚构 \n",
      "desc              两位哲学家从哲学、神学和心理学的角度，探讨了死亡和永生，揭开了死亡的棺材盖，让我们正视生与死...\n",
      "eveluate_nums                                                   422\n",
      "price                                                            15\n",
      "publisher                                                      图灵社区\n",
      "score                                                           7.4\n",
      "table_contents    [每个人都会死，但我总以为自己不会, 前言, 第一部分 死亡，如之奈何？,  一定是什么地方...\n",
      "tags                                      [心理学, 哲学, 死亡, 图灵新知, 人文社科]\n",
      "title                                              每个人都会死，但我总以为自己不会\n",
      "url                          https://read.douban.com/ebook/5168559/\n",
      "Name: 117, dtype: object\n",
      "author                                                           舒雅\n",
      "book_id                                                     3885055\n",
      "category                                                  图书 / 非虚构 \n",
      "desc              《心态好一切都好》通过案例与分析，详尽地阐释心态在人的命运中所起的决定性作用，指出决定一个人...\n",
      "eveluate_nums                                                     1\n",
      "price                                                           7.9\n",
      "publisher                                                      游遍星辰\n",
      "score                                                             0\n",
      "table_contents    [心态好一切都好, 前言 心态是人生最大的本钱,  不较真的心态，让你收获心平气和, 开个玩...\n",
      "tags                               [中国, 随笔, 心理学, 哲学, 人生, 心态, 情感与成长]\n",
      "title                                                       心态好一切都好\n",
      "url                          https://read.douban.com/ebook/3885055/\n",
      "Name: 167, dtype: object\n",
      "author                                                   〔美〕 沙夫茨伯里 \n",
      "book_id                                                     2180697\n",
      "category                                                  图书 / 非虚构 \n",
      "desc              《性吸引力私密教程》内容简介：为什么你无法获得异性的激赏？为什么你的婚姻总是摇摇欲坠？为什么...\n",
      "eveluate_nums                                                    84\n",
      "price                                                          8.99\n",
      "publisher                                                      游遍星辰\n",
      "score                                                           5.4\n",
      "table_contents    [性吸引力私密教程, 上篇 性吸引力基础教程, 第1课 一个人最强大的力量, 成功就这样水到...\n",
      "tags                                          [情感, 心理学, 哲学, 生活, 两性]\n",
      "title                                                      性吸引力私密教程\n",
      "url                          https://read.douban.com/ebook/2180697/\n",
      "Name: 184, dtype: object\n",
      "author                                                          方礼勇\n",
      "book_id                                                     1039924\n",
      "category                                                  图书 / 非虚构 \n",
      "desc              《寻找心灵的导师》从最新研究成果出发，为人们获得积极的工作和生活态度提供了有效的工具。人是处...\n",
      "eveluate_nums                                                     4\n",
      "price                                                            18\n",
      "publisher                                                      游遍星辰\n",
      "score                                                             0\n",
      "table_contents    [寻找心灵的导师, 前言, 第一部分 洞悉我们生存的环境,  心灵奥秘——人是处于占据状态的...\n",
      "tags                             [心理学, 哲学, 心灵, 灵修, 非闲书, 方礼勇, 情感与成长]\n",
      "title                                                       寻找心灵的导师\n",
      "url                          https://read.douban.com/ebook/1039924/\n",
      "Name: 241, dtype: object\n",
      "author                                                           胡锋\n",
      "book_id                                                    16097154\n",
      "category                                                  图书 / 非虚构 \n",
      "desc              成功，因宽容和积极而充满机遇；失败，因抱怨和消极而困难重重。优秀的人，都是不抱怨的人。心若改...\n",
      "eveluate_nums                                                     4\n",
      "price                                                             3\n",
      "publisher                                                      游遍星辰\n",
      "score                                                             0\n",
      "table_contents    [生气伤害的不止是心情, 人生没有坦途，生气会让你不堪一击, 人一辈子犯的错，80%是因为生...\n",
      "tags                                              [心理学, 哲学, 励志, 修身]\n",
      "title                                                   不抱怨 不生气 不失控\n",
      "url                         https://read.douban.com/ebook/16097154/\n",
      "Name: 298, dtype: object\n",
      "author                                                 〔奥〕西格蒙德·弗洛伊德\n",
      "book_id                                                    23374812\n",
      "category                                                  图书 / 非虚构 \n",
      "desc              通过对梦的剖析，提出“潜意识”与“俄狄浦斯情结”等重要概念，标志着精神分析体系的正式建立。深...\n",
      "eveluate_nums                                                    12\n",
      "price                                                            17\n",
      "publisher                                                      游遍星辰\n",
      "score                                                           7.6\n",
      "table_contents    [ 外部感官刺激,  内部（主体的）感官刺激,  内部（机体的）躯体刺激,  纯精神刺激来源...\n",
      "tags                                            [经典, 心理学, 哲学, 弗洛伊德]\n",
      "title                                                          梦的解析\n",
      "url                         https://read.douban.com/ebook/23374812/\n",
      "Name: 301, dtype: object\n",
      "author                                                   〔美〕艾德· 培根 \n",
      "book_id                                                    17526084\n",
      "category                                                  图书 / 非虚构 \n",
      "desc              《爱有8种习惯》为我们作出见证：当我们向丰盈之爱敞开心扉之时，我们的生命就会变得更美好，并将...\n",
      "eveluate_nums                                                    34\n",
      "price                                                           8.7\n",
      "publisher                                                      游遍星辰\n",
      "score                                                           8.9\n",
      "table_contents    [爱的习惯, 我们都是至爱者, 接受习惯, 开启你的心灵和智慧, 开放而慷慨的心灵, 宇宙是...\n",
      "tags                                            [情感, 心理学, 哲学, 个人管理]\n",
      "title                                                        爱有8种习惯\n",
      "url                         https://read.douban.com/ebook/17526084/\n",
      "Name: 303, dtype: object\n",
      "author                                                   〔美〕埃里希·弗洛姆\n",
      "book_id                                                    11118088\n",
      "category                                                  图书 / 非虚构 \n",
      "desc              本书是著名精神分析学家、人本主义哲学家弗洛姆的最后一部著作。本书中，他对自己多年来关于资本主...\n",
      "eveluate_nums                                                    49\n",
      "price                                                            35\n",
      "publisher                                                      游遍星辰\n",
      "score                                                           8.2\n",
      "table_contents    [幻想的破灭, 伟大的允诺为什么没有实现, 从经济上看改变人的必要性, 除了灾难还有别的选择...\n",
      "tags                                   [心理学, 哲学, 心理, 精神分析, 禅修, 弗洛姆]\n",
      "title                                                        占有还是存在\n",
      "url                         https://read.douban.com/ebook/11118088/\n",
      "Name: 314, dtype: object\n",
      "author                                                           陈颖\n",
      "book_id                                                     9693476\n",
      "category                                                  图书 / 非虚构 \n",
      "desc              陈颖编著的《哈佛哲学课》在哈佛大学教授的引导下，通过有趣的场景设置，生动阐释生活的意义、信仰...\n",
      "eveluate_nums                                                    14\n",
      "price                                                          5.99\n",
      "publisher                                                      游遍星辰\n",
      "score                                                           6.8\n",
      "table_contents    [哈佛哲学课, 第一卷 谁需要哲学,  踏上精神的智慧之旅,  彻底改变你看待世界的方式, ...\n",
      "tags                                       [心理学, 哲学, 生活, 好, 三观, 鸡汤]\n",
      "title                                                         哈佛哲学课\n",
      "url                          https://read.douban.com/ebook/9693476/\n",
      "Name: 323, dtype: object\n",
      "author                                                           徐冰\n",
      "book_id                                                    23344668\n",
      "category                                                  图书 / 非虚构 \n",
      "desc              本书对社会科学的方法论中的诠释学进路做出了系统的梳理，并从历史沿革和当代发展上分别对查尔斯·...\n",
      "eveluate_nums                                                    16\n",
      "price                                                          16.8\n",
      "publisher                                                      游遍星辰\n",
      "score                                                           7.8\n",
      "table_contents    [一, 二, 三, 一, 二, 三, 四, 一, 二, 三, 四, 五, 一, 二, 三, ...\n",
      "tags                               [心理学, 哲学, 社会学, 诠释学, 三联·哈佛燕京学术丛书]\n",
      "title                                               心理学与社会学之间的诠释学进路\n",
      "url                         https://read.douban.com/ebook/23344668/\n",
      "Name: 375, dtype: object\n",
      "author                                                          黄悌明\n",
      "book_id                                                    15222690\n",
      "category                                                  图书 / 非虚构 \n",
      "desc              本书是一本深刻自剖人性的书，剖析人最本质的“组成”，本质上了解自己，了解自己的欲望、情绪，从...\n",
      "eveluate_nums                                                     8\n",
      "price                                                           3.8\n",
      "publisher                                                      游遍星辰\n",
      "score                                                             0\n",
      "table_contents    [一、我想要什么, 二、如何实现它, 三、行动, 一、快速、自动、高效, 二、储存时间长, ...\n",
      "tags                                       [心理学, 哲学, 励志, 成功学, 自我管理]\n",
      "title                                                     成功从了解自己开始\n",
      "url                         https://read.douban.com/ebook/15222690/\n",
      "Name: 383, dtype: object\n",
      "author                                                          单振文\n",
      "book_id                                                    10987554\n",
      "category                                                  图书 / 非虚构 \n",
      "desc              人本、人性、人心是古老永恒的课题，目前观点繁多却难以圆融。《人本 人性 人心》共分三篇：第一...\n",
      "eveluate_nums                                                     1\n",
      "price                                                           8.4\n",
      "publisher                                                      游遍星辰\n",
      "score                                                             0\n",
      "table_contents    [〗人本、人性、人心, 前言, On Human Essence，Natureand Min...\n",
      "tags                                          [中国, 心理学, 哲学, 宗教, 流派]\n",
      "title                                                      人本、人性、人心\n",
      "url                         https://read.douban.com/ebook/10987554/\n",
      "Name: 411, dtype: object\n",
      "author                                                      〔美〕马斯洛 \n",
      "book_id                                                    14958631\n",
      "category                                                  图书 / 非虚构 \n",
      "desc              一个作曲家必须作曲，一位画家必须绘画，一位诗人必须写诗，否则他始终都难安静。一个人能够成为什...\n",
      "eveluate_nums                                                     8\n",
      "price                                                          5.98\n",
      "publisher                                                      游遍星辰\n",
      "score                                                             0\n",
      "table_contents             [前言, 探索生命的需要, 创造人性的境界, 实现自我的价值, 体验人生的幸福]\n",
      "tags                                                  [情感, 心理学, 哲学]\n",
      "title                                               马斯洛精选集：人性能达到的境界\n",
      "url                         https://read.douban.com/ebook/14958631/\n",
      "Name: 430, dtype: object\n",
      "author                                                 〔西〕巴尔塔沙·葛拉西安\n",
      "book_id                                                    19853957\n",
      "category                                                  图书 / 非虚构 \n",
      "desc              《内心需要照耀》原名《英雄宝镜》，为葛拉西安的精华之作。《内心需要照耀》立意在于借用他人的知...\n",
      "eveluate_nums                                                     9\n",
      "price                                                             9\n",
      "publisher                                                      游遍星辰\n",
      "score                                                             0\n",
      "table_contents    [1, 2, 3, 深谋远虑, 一半大于整体, 善于隐藏自己的缺陷, 控制自己的情绪, 英雄...\n",
      "tags                                          [心理学, 哲学, 智慧语录, 处世谋略]\n",
      "title                                                        内心需要照耀\n",
      "url                         https://read.douban.com/ebook/19853957/\n",
      "Name: 434, dtype: object\n",
      "author                                                          庞思奋\n",
      "book_id                                                    11101686\n",
      "category                                                  图书 / 非虚构 \n",
      "desc              作为爱灵魂三卷本系列的一种，《爱灵魂自我教程：爱·性·婚姻与友谊》从哲学和心理学的视角，对“...\n",
      "eveluate_nums                                                    55\n",
      "price                                                             9\n",
      "publisher                                                      游遍星辰\n",
      "score                                                             9\n",
      "table_contents    [爱灵魂自我教程爱·性·婚姻与友谊, 序, 第一部分 H2O海洋爱的形而上学, 第一周关系中...\n",
      "tags                                 [婚姻, 心理学, 哲学, 性学, 性, 庞思奋, 爱之水]\n",
      "title                                              爱灵魂自我教程爱·性·婚姻与友谊\n",
      "url                         https://read.douban.com/ebook/11101686/\n",
      "Name: 481, dtype: object\n",
      "author                                                           文杉\n",
      "book_id                                                    13476080\n",
      "category                                                  图书 / 非虚构 \n",
      "desc              本书通过对工作、爱情、婚姻、财富、健康、处世、事业等层面的精辟分析，多角度、多方位阐明了人生...\n",
      "eveluate_nums                                                     6\n",
      "price                                                         13.47\n",
      "publisher                                                      游遍星辰\n",
      "score                                                             0\n",
      "table_contents    [选择决定命运, 选择演奏生命的华彩乐章, 选择决定人生成败, 选择改变人生, 路到尽头就转...\n",
      "tags                                                  [心理学, 哲学, 生活]\n",
      "title                                                    学会选择学会放弃全集\n",
      "url                         https://read.douban.com/ebook/13476080/\n",
      "Name: 496, dtype: object\n",
      "author                                     〔美〕大卫·迪绍夫（David DiSalvo）\n",
      "book_id                                                     7548208\n",
      "category                                                  图书 / 非虚构 \n",
      "desc              “江山易改，本性难移”“三岁看大，五岁看老”这样的俗语暗示，我们的人格和思维模式如同被模具定...\n",
      "eveluate_nums                                                   111\n",
      "price                                                            18\n",
      "publisher                                                      游遍星辰\n",
      "score                                                           6.7\n",
      "table_contents    [序, 前言, 第一部分 知, 绪论 大脑改造：开始思维逆转之旅,  元认知：冷静的观察者,...\n",
      "tags                                  [心理学, 哲学, 美国, 宗教, 思维, 大卫·迪绍夫]\n",
      "title                                                 元认知：改变大脑的顽固思维\n",
      "url                          https://read.douban.com/ebook/7548208/\n",
      "Name: 529, dtype: object\n",
      "author                                                           方方\n",
      "book_id                                                     5855561\n",
      "category                                                  图书 / 非虚构 \n",
      "desc              心态如空气一般，在我们的一生中无处不在，随时随地决定着我们的未来。失败者因为被心态控制而灰心...\n",
      "eveluate_nums                                                     0\n",
      "price                                                          5.99\n",
      "publisher                                                      游遍星辰\n",
      "score                                                             0\n",
      "table_contents    [别让心态害了你,  好心态成就一生，千万别让心态毁了你, 发脾气无助于安宁, 不做恶人，少...\n",
      "tags                                  [中国, 心理学, 哲学, 人生, 当代, 励志, 心态]\n",
      "title                                                       别让心态害了你\n",
      "url                          https://read.douban.com/ebook/5855561/\n",
      "Name: 544, dtype: object\n",
      "author                                                   〔英〕理查德·怀斯曼\n",
      "book_id                                                    19719894\n",
      "category                                                  图书 / 非虚构 \n",
      "desc              很多人之所以对心理自助类的技巧感兴趣，是因为它们能提供解决人生各种难题简单快速的方法。遗憾的...\n",
      "eveluate_nums                                                   183\n",
      "price                                                         10.99\n",
      "publisher                                                      游遍星辰\n",
      "score                                                           7.5\n",
      "table_contents    [引言, 　快乐, 　说服, 　魅力, 　决策, 　个性, 　压力, 　动机, 　婚姻, 　...\n",
      "tags                                    [心理学, 哲学, 人类, 行为学, 理查德·怀斯曼]\n",
      "title                                                 一本正经又怪诞的行为心理学\n",
      "url                         https://read.douban.com/ebook/19719894/\n",
      "Name: 554, dtype: object\n",
      "author                                              〔美〕亚伯位罕·哈罗德·马斯洛\n",
      "book_id                                                    14887868\n",
      "category                                                  图书 / 非虚构 \n",
      "desc              他认为，生活的富足和社会的繁荣，科学技术的进步和文化教育的普及，民主政治的形成和真诚美好的愿...\n",
      "eveluate_nums                                                    65\n",
      "price                                                          5.98\n",
      "publisher                                                      游遍星辰\n",
      "score                                                           7.7\n",
      "table_contents         [前言, 导论, 探索生命的需要, 创造人性的境界, 实现自我的价值, 体验人生的幸福]\n",
      "tags                                [心理学, 哲学, 社会心理学, 人性, 精神分析, 马斯洛]\n",
      "title                                                      人性能达到的境界\n",
      "url                         https://read.douban.com/ebook/14887868/\n",
      "Name: 559, dtype: object\n",
      "author                                                   〔加〕托马斯·霍尔卡\n",
      "book_id                                                    17358515\n",
      "category                                                  图书 / 非虚构 \n",
      "desc              本书围绕如何寻求生命中好的事物，霍尔卡进行了许多深入的思考与分析，例如，就快乐这一问题，作者...\n",
      "eveluate_nums                                                    76\n",
      "price                                                          7.65\n",
      "publisher                                                      游遍星辰\n",
      "score                                                           8.5\n",
      "table_contents    [我们只是想要快乐吗？, 快乐有不同的方式, 有更好的快乐吗？, 快乐的变得更加快乐，悲哀的...\n",
      "tags                                          [心理学, 哲学, 生活, 生命, 人文]\n",
      "title                                       生命中最好的事物：指引你了解人生真正要紧的东西\n",
      "url                         https://read.douban.com/ebook/17358515/\n",
      "Name: 569, dtype: object\n",
      "author                                                〔美〕威廉·H·布兰查德 \n",
      "book_id                                                    10917424\n",
      "category                                                  图书 / 非虚构 \n",
      "desc              让-雅各•卢梭是18世纪最有影响力的作家之一，也是最有争议的人物之一。其作品充分展现了卢梭本...\n",
      "eveluate_nums                                                    27\n",
      "price                                                          14.7\n",
      "publisher                                                      游遍星辰\n",
      "score                                                           8.3\n",
      "table_contents    [卢梭与反叛精神：一项心理学研究, 总序：在明澈“冰山”之下的幽暗底层, 序言, 　在舞台上...\n",
      "tags                                        [心理学, 哲学, 传记, 精神分析, 卢梭]\n",
      "title                                                       卢梭与反叛精神\n",
      "url                         https://read.douban.com/ebook/10917424/\n",
      "Name: 578, dtype: object\n",
      "author                                                           白洁\n",
      "book_id                                                    19745282\n",
      "category                                                  图书 / 非虚构 \n",
      "desc              几千年来记忆的问题被接连谈论：从柏拉图到休谟、从亚里士多德到柏格森、从艾宾浩斯到巴德利，记忆...\n",
      "eveluate_nums                                                     2\n",
      "price                                                         16.61\n",
      "publisher                                                      游遍星辰\n",
      "score                                                             0\n",
      "table_contents    [一、选题的缘起及意义, 二、国内外研究述评, 一、柏拉图:探索和学习都是回忆, 二、亚里士...\n",
      "tags                                              [记忆, 心理学, 哲学, 学术]\n",
      "title                                                          记忆哲学\n",
      "url                         https://read.douban.com/ebook/19745282/\n",
      "Name: 583, dtype: object\n",
      "author                                                 〔奥〕西格蒙德·弗洛伊德\n",
      "book_id                                                    21423042\n",
      "category                                                  图书 / 非虚构 \n",
      "desc              1915年—1916年，弗洛伊德在维也纳大学为非专业人士开设了一门心理学讲座，课程逐渐深入。...\n",
      "eveluate_nums                                                    31\n",
      "price                                                          8.99\n",
      "publisher                                                      游遍星辰\n",
      "score                                                           9.4\n",
      "table_contents    [第一讲 导论, 第二讲 失误行为 Ⅰ, 第三讲 失误行为 Ⅱ, 第四讲 失误行为 Ⅲ, 第...\n",
      "tags                          [经典, 心理学, 哲学, 心理, 精神分析, 弗洛伊德, 精神分析引论]\n",
      "title                                                        精神分析引论\n",
      "url                         https://read.douban.com/ebook/21423042/\n",
      "Name: 629, dtype: object\n",
      "author                                                    〔奥地利〕弗洛伊德\n",
      "book_id                                                    13320707\n",
      "category                                                  图书 / 非虚构 \n",
      "desc              出版于1899年的《梦的解析》（又译《释梦》）被后世之人推崇为弗洛伊德最伟大的著作，它为人类...\n",
      "eveluate_nums                                                    60\n",
      "price                                                             6\n",
      "publisher                                                      游遍星辰\n",
      "score                                                           7.9\n",
      "table_contents    [1, 2, 3, 4, 5, 6, 7, 8, 9, , , , , , , , , , ...\n",
      "tags                                      [经典, 心理学, 哲学, 精神分析, 弗洛伊德]\n",
      "title                                                   梦的解析（经典超译本）\n",
      "url                         https://read.douban.com/ebook/13320707/\n",
      "Name: 631, dtype: object\n",
      "author                                                 〔西〕巴尔塔沙·葛拉西安\n",
      "book_id                                                    19873017\n",
      "category                                                  图书 / 非虚构 \n",
      "desc              《人性需要揭穿》原名《智慧书》，是一本敢于说真话的书，它以一种令人惊奇冷峻的笔调，揭穿了人性...\n",
      "eveluate_nums                                                    18\n",
      "price                                                             9\n",
      "publisher                                                      游遍星辰\n",
      "score                                                           7.3\n",
      "table_contents    [维持别人对你的依赖, 不受一时激情左右, 学富志诚保你马到成功, 行事方法富有变化才能迷惑...\n",
      "tags                                    [随笔, 心理学, 哲学, 人生, 励志, 智慧语录]\n",
      "title                                                        人性需要揭穿\n",
      "url                         https://read.douban.com/ebook/19873017/\n",
      "Name: 673, dtype: object\n",
      "author                                                   John Locke\n",
      "book_id                                                    23710077\n",
      "category                                                  图书 / 非虚构 \n",
      "desc              Published in 1689, John Locke's pioneering inv...\n",
      "eveluate_nums                                                     0\n",
      "price                                                          3.99\n",
      "publisher                                                      游遍星辰\n",
      "score                                                             0\n",
      "table_contents    [Chapter I, Chapter II, Chapter III, Chapter I...\n",
      "tags                                         [经典, 心理学, 文学, 哲学, 公版书]\n",
      "title                  An Essay Concerning Human Understanding（英文版）\n",
      "url                         https://read.douban.com/ebook/23710077/\n",
      "Name: 702, dtype: object\n",
      "author                                                    〔美〕库伯勒·罗斯\n",
      "book_id                                                    17358205\n",
      "category                                                  图书 / 非虚构 \n",
      "desc              20世纪全球百大思想家之一、生死学大师人生哲学经典作品，在美国、韩国、中国台湾都曾是畅销书，...\n",
      "eveluate_nums                                                    50\n",
      "price                                                           8.7\n",
      "publisher                                                      游遍星辰\n",
      "score                                                           8.2\n",
      "table_contents    [作者序一　伊丽莎白的话, 作者序二　戴维的话, 编者的话, 　真实的功课, 　爱的功课, ...\n",
      "tags                                                  [心理学, 哲学, 人生]\n",
      "title                                          人生的功课：生死学大师谈生命和生活的奥秘\n",
      "url                         https://read.douban.com/ebook/17358205/\n",
      "Name: 708, dtype: object\n",
      "author                                                    〔美〕保罗·费里尼\n",
      "book_id                                                     9717040\n",
      "category                                                  图书 / 非虚构 \n",
      "desc              《宽恕就是爱2:拥抱真我》描述了一些生活中的真实故事。在这些故事中，有人治愈了自己的创伤，有...\n",
      "eveluate_nums                                                    28\n",
      "price                                                            10\n",
      "publisher                                                      游遍星辰\n",
      "score                                                           7.9\n",
      "table_contents    [宽恕就是爱2, 对保罗·费里尼作品的赞誉, 作者前言, PART 1　遇见我们自己, 核心...\n",
      "tags                        [心理学, 哲学, 成长, 心灵, 心灵成长, 灵修, 自我疗愈, 爱的艺术]\n",
      "title                                                        宽恕就是爱2\n",
      "url                          https://read.douban.com/ebook/9717040/\n",
      "Name: 718, dtype: object\n",
      "author                                                       〔美〕马斯洛\n",
      "book_id                                                    14957724\n",
      "category                                                  图书 / 非虚构 \n",
      "desc              良好管理是建立在对员工和他们的动机、他们的担忧和恐惧、他们的希翼和渴望、他们的爱好和厌恶以及...\n",
      "eveluate_nums                                                     3\n",
      "price                                                          5.98\n",
      "publisher                                                      游遍星辰\n",
      "score                                                             0\n",
      "table_contents    [前言, 人本管理的企业目标模式, 企业领导的管理动态模式, 塑造企业形象的营销模式, 员工...\n",
      "tags                                                [心理学, 哲学, 自我实现]\n",
      "title                                                   马斯洛精选集：人本管理\n",
      "url                         https://read.douban.com/ebook/14957724/\n",
      "Name: 723, dtype: object\n",
      "author                                                          宋心田\n",
      "book_id                                                    20171936\n",
      "category                                                  图书 / 非虚构 \n",
      "desc              老年心理学是研究老年期个体心理特征及其变化发展规律的一门科学。它是新兴的老年学的组成部分。由...\n",
      "eveluate_nums                                                     0\n",
      "price                                                          3.41\n",
      "publisher                                                      游遍星辰\n",
      "score                                                             0\n",
      "table_contents    [认识老年的角色, （1）主要角色转变为次要角色, （2）工作角色转变为休闲角色, （3）配...\n",
      "tags                                                  [心理学, 哲学, 生活]\n",
      "title                                                    送给老爸老妈的心理学\n",
      "url                         https://read.douban.com/ebook/20171936/\n",
      "Name: 731, dtype: object\n",
      "author                                                   〔英〕朱利安·巴吉尼\n",
      "book_id                                                    25289863\n",
      "category                                                  图书 / 非虚构 \n",
      "desc              《你以为你以为的就是你以为的吗？》是《哲学家杂志》共同创办人朱利安•巴吉尼与杰里米•斯唐鲁姆...\n",
      "eveluate_nums                                                  1149\n",
      "price                                                         29.99\n",
      "publisher                                                      游遍星辰\n",
      "score                                                           6.7\n",
      "table_contents    [导言：我认为认识你自己。,  我有自己的观点，但我自己不一定都赞同,  你以为你有逻辑你就...\n",
      "tags                      [心理学, 哲学, 逻辑, 思维, 朱利安•巴吉尼, 心视界, 湛庐文化•心视界]\n",
      "title                                               你以为你以为的就是你以为的吗？\n",
      "url                         https://read.douban.com/ebook/25289863/\n",
      "Name: 756, dtype: object\n",
      "author                                                           孟慧\n",
      "book_id                                                    10051257\n",
      "category                                                  图书 / 非虚构 \n",
      "desc              “画”说心理学丛书是由优秀畅销书作者、华东师范大学心理与认知科学学院崔丽娟教授主编，联合专业...\n",
      "eveluate_nums                                                     1\n",
      "price                                                          2.99\n",
      "publisher                                                      游遍星辰\n",
      "score                                                             0\n",
      "table_contents    [人人懂点管理心计, 总序, 前言, 　管理要懂心理学, 我们为什么而工作, 征服职场, 管...\n",
      "tags                                              [心理学, 哲学, 励志, 管理]\n",
      "title                                                      人人懂点管理心计\n",
      "url                         https://read.douban.com/ebook/10051257/\n",
      "Name: 760, dtype: object\n",
      "author                                              〔美〕伊丽莎白·库伯勒-罗斯 \n",
      "book_id                                                     8794320\n",
      "category                                                  图书 / 非虚构 \n",
      "desc              本书乃是20世纪最负盛名的心理学研究著作之一。作者伊丽莎白·库伯勒-罗斯以死亡为主题，首次提...\n",
      "eveluate_nums                                                    14\n",
      "price                                                            11\n",
      "publisher                                                      游遍星辰\n",
      "score                                                           7.3\n",
      "table_contents    [下一站，天堂, 致谢, 前言, 　关于死亡之惧, 　对待临终病人的态度, 　第一阶段：否定...\n",
      "tags                               [心理学, 哲学, 心灵, 生死学, 库伯勒-罗斯, 制造心理]\n",
      "title                                                        下一站，天堂\n",
      "url                          https://read.douban.com/ebook/8794320/\n",
      "Name: 860, dtype: object\n",
      "author                                                       〔美〕马斯洛\n",
      "book_id                                                    14957626\n",
      "category                                                  图书 / 非虚构 \n",
      "desc              本书主要是围绕需要层次论和自我实现论来阐述其基本观点的。动机理论是马斯洛学说的精髓。本著作中...\n",
      "eveluate_nums                                                     7\n",
      "price                                                          5.98\n",
      "publisher                                                      游遍星辰\n",
      "score                                                             0\n",
      "table_contents     [前言, 自我成长与人格力量, 新型生活与人格力量, 成功心理与人格力量, 知识价值与人格力量]\n",
      "tags                                              [经典, 心理学, 哲学, 名家]\n",
      "title                                                  马斯洛精选集：动机与人格\n",
      "url                         https://read.douban.com/ebook/14957626/\n",
      "Name: 878, dtype: object\n",
      "author                                                          林肇贤\n",
      "book_id                                                    19084164\n",
      "category                                                  图书 / 非虚构 \n",
      "desc              看了很多成功学，发现自己仍然原地踏步；读了很多心灵励志，回到生活发现自己仍然没变。原来，那些...\n",
      "eveluate_nums                                                    47\n",
      "price                                                          21.6\n",
      "publisher                                                      游遍星辰\n",
      "score                                                           7.4\n",
      "table_contents    [（一）从“生理基础”了解心理学, （二）从“认知功能”探讨心理学, （三）从“心理发展”分...\n",
      "tags                                                  [心理学, 哲学, 智慧]\n",
      "title                                                        心理学了没？\n",
      "url                         https://read.douban.com/ebook/19084164/\n",
      "Name: 894, dtype: object\n",
      "author                                                          雷建军\n",
      "book_id                                                    13908463\n",
      "category                                                  图书 / 非虚构 \n",
      "desc              本书搜集了365个有趣的人生故事，集思想性、趣味性、系统性、哲理性为一体。它将是你智慧人生不...\n",
      "eveluate_nums                                                     4\n",
      "price                                                             2\n",
      "publisher                                                      游遍星辰\n",
      "score                                                             0\n",
      "table_contents    [1．折磨自己于事无补, 2．没有人肯为你的烦恼埋单, 3．没有快乐，可以制造快乐, 4．痛...\n",
      "tags                                        [心理学, 哲学, 励志, 成功, 个人励志]\n",
      "title                                                      每天一个心灵安慰\n",
      "url                         https://read.douban.com/ebook/13908463/\n",
      "Name: 961, dtype: object\n",
      "author                                                       〔德〕叔本华\n",
      "book_id                                                    19648260\n",
      "category                                                  图书 / 非虚构 \n",
      "desc              《一个悲观主义者的积极思考》取自叔本华一生中最后一部巨著《附录与补遗》，是他对哲学著作《作为...\n",
      "eveluate_nums                                                   160\n",
      "price                                                             9\n",
      "publisher                                                      游遍星辰\n",
      "score                                                           8.7\n",
      "table_contents    [人生的福分, 人生是一次旅行, 认识你自己, 快乐不过是梦，忧伤却是现实的, 自我与外在,...\n",
      "tags                                                 [心理学, 哲学, 叔本华]\n",
      "title                                                  一个悲观主义者的积极思考\n",
      "url                         https://read.douban.com/ebook/19648260/\n",
      "Name: 967, dtype: object\n",
      "author                                                           婉航\n",
      "book_id                                                    10060453\n",
      "category                                                  图书 / 非虚构 \n",
      "desc              《做好自己就是超越自己》内容简介：在日常生活中，我们都有着类似的经历；我们希望自己时时刻刻都...\n",
      "eveluate_nums                                                    40\n",
      "price                                                          12.8\n",
      "publisher                                                      游遍星辰\n",
      "score                                                           7.1\n",
      "table_contents    [做好自己就是超越自己, 自序, Part1 如何做个幸运的人, 做个幸运的人, 修炼最佳气...\n",
      "tags                              [心理学, 哲学, 个人管理, 经济管理, 人生智慧, 励志成功]\n",
      "title                                                    做好自己就是超越自己\n",
      "url                         https://read.douban.com/ebook/10060453/\n",
      "Name: 969, dtype: object\n",
      "author                                                 〔奥〕西格蒙德·弗洛伊德\n",
      "book_id                                                     9821151\n",
      "category                                                  图书 / 非虚构 \n",
      "desc              《性学三论》是心理学宗师弗洛伊德开性学先河之作。在这部作品中，他首度将精神分析法运用于性研究...\n",
      "eveluate_nums                                                   526\n",
      "price                                                           7.9\n",
      "publisher                                                      游遍星辰\n",
      "score                                                           8.1\n",
      "table_contents    [导读/ 李银河, 对思想史的贡献, 例一：对古人与今人在性欲上的区别的经典概括。, 例二：...\n",
      "tags                             [心理学, 哲学, 性学, 精神分析, 弗洛伊德, 性, 果麦经典]\n",
      "title                                                          性学三论\n",
      "url                          https://read.douban.com/ebook/9821151/\n",
      "Name: 988, dtype: object\n",
      "author                                                    〔美〕保罗·费里尼\n",
      "book_id                                                     9717154\n",
      "category                                                  图书 / 非虚构 \n",
      "desc              《宽恕就是爱3:真正的幸福》主要讲述了幸福是一次旅程。山顶只是这趟旅程中的一个位置而已，而山...\n",
      "eveluate_nums                                                    19\n",
      "price                                                            10\n",
      "publisher                                                      游遍星辰\n",
      "score                                                           8.2\n",
      "table_contents    [宽恕就是爱3, 对保罗·费里尼作品的赞誉, 致读者, 前言, PART 1　幸福是一次旅程...\n",
      "tags                                [心理学, 哲学, 成长, 心灵, 心灵成长, 灵修, 修行]\n",
      "title                                                        宽恕就是爱3\n",
      "url                          https://read.douban.com/ebook/9717154/\n",
      "Name: 1021, dtype: object\n",
      "author                                                          吴冠军\n",
      "book_id                                                    10557617\n",
      "category                                                  图书 / 非虚构 \n",
      "desc              从古典政治哲学、新教神学到精神分析，从德国理念主义到当代中国思想状况，从《西游记》到《天龙八...\n",
      "eveluate_nums                                                     0\n",
      "price                                                             6\n",
      "publisher                                                      游遍星辰\n",
      "score                                                             0\n",
      "table_contents    [爱与死的幽灵学, 内容简介, 赞语, 导论 爱与死的幽灵学——今天的意识形态及其激进批判,...\n",
      "tags                                                      [心理学, 哲学]\n",
      "title                                                       爱与死的幽灵学\n",
      "url                         https://read.douban.com/ebook/10557617/\n",
      "Name: 1023, dtype: object\n"
     ]
    }
   ],
   "source": [
    "df_target=pd.DataFrame()\n",
    "\n",
    "for rIndex in df.index:\n",
    "        if '哲学' in df.iloc[rIndex].tags:\n",
    "            print(df.iloc[rIndex])\n",
    "            df_target.append(pd.DataFrame(df.iloc[rIndex]))\n",
    "\n",
    "            \n",
    "    \n",
    "            "
   ]
  },
  {
   "cell_type": "code",
   "execution_count": 132,
   "metadata": {
    "collapsed": false
   },
   "outputs": [
    {
     "name": "stdout",
     "output_type": "stream",
     "text": [
      "Empty DataFrame\n",
      "Columns: []\n",
      "Index: []\n"
     ]
    }
   ],
   "source": [
    "print(df_target)"
   ]
  },
  {
   "cell_type": "code",
   "execution_count": 160,
   "metadata": {
    "collapsed": false
   },
   "outputs": [],
   "source": [
    "df_target=pd.DataFrame()\n",
    "def get_books(string):\n",
    "    arr=[]\n",
    "    for rIndex in df.index:\n",
    "            if (string in df.iloc[rIndex].tags) or str(df.iloc[rIndex].title).find(string)>=0:\n",
    "                arr.append(df.iloc[rIndex])\n",
    "    return pd.DataFrame(arr)\n"
   ]
  },
  {
   "cell_type": "code",
   "execution_count": 162,
   "metadata": {
    "collapsed": false
   },
   "outputs": [
    {
     "name": "stdout",
     "output_type": "stream",
     "text": [
      "                              author   book_id   category  \\\n",
      "656  〔瑞典〕马格努斯·林奎斯特(Magnus Lindkvist)  10581155  图书 / 非虚构    \n",
      "\n",
      "                                                  desc  eveluate_nums  price  \\\n",
      "656  我们每个人、每个公司、包括整个社会都在面对一个未知的世界。这世界的任何角落都会有这样或那样的...             99   12.0   \n",
      "\n",
      "    publisher  score                                     table_contents  \\\n",
      "656      游遍星辰    6.8  [地狱十年, 我为什么要写这么一本书？, 意外的五个维度, 意外来袭的夜晚, 处处隐藏着意外...   \n",
      "\n",
      "                       tags           title  \\\n",
      "656  [心理学, 社会学, 思维, 智慧, 意外]  意料之外：如何将意外变成惊喜   \n",
      "\n",
      "                                         url  \n",
      "656  https://read.douban.com/ebook/10581155/  \n"
     ]
    }
   ],
   "source": [
    "print(get_books('意外'))"
   ]
  },
  {
   "cell_type": "code",
   "execution_count": 163,
   "metadata": {
    "collapsed": false
   },
   "outputs": [],
   "source": [
    "df_target=pd.DataFrame(arr)\n",
    "df_target = df_target.reset_index(drop=True)"
   ]
  },
  {
   "cell_type": "code",
   "execution_count": 164,
   "metadata": {
    "collapsed": false
   },
   "outputs": [
    {
     "data": {
      "text/html": [
       "<div>\n",
       "<table border=\"1\" class=\"dataframe\">\n",
       "  <thead>\n",
       "    <tr style=\"text-align: right;\">\n",
       "      <th></th>\n",
       "      <th>author</th>\n",
       "      <th>book_id</th>\n",
       "      <th>category</th>\n",
       "      <th>desc</th>\n",
       "      <th>eveluate_nums</th>\n",
       "      <th>price</th>\n",
       "      <th>publisher</th>\n",
       "      <th>score</th>\n",
       "      <th>table_contents</th>\n",
       "      <th>tags</th>\n",
       "      <th>title</th>\n",
       "      <th>url</th>\n",
       "    </tr>\n",
       "  </thead>\n",
       "  <tbody>\n",
       "    <tr>\n",
       "      <th>0</th>\n",
       "      <td>〔奥〕阿尔弗雷德·阿德勒</td>\n",
       "      <td>19027390</td>\n",
       "      <td>图书 / 非虚构</td>\n",
       "      <td>《自卑与超越》是个体心理学的先驱阿德勒的代表作，作者从探寻人生的意义出发，启迪我们去理解真实...</td>\n",
       "      <td>223</td>\n",
       "      <td>1.99</td>\n",
       "      <td>斯坦威图书</td>\n",
       "      <td>7.2</td>\n",
       "      <td>[阿德勒：超越自卑，找到生命的真正意义]</td>\n",
       "      <td>[心理学, 哲学, 生活, 精神分析, 弗洛伊德]</td>\n",
       "      <td>自卑与超越（新版）</td>\n",
       "      <td>https://read.douban.com/ebook/19027390/</td>\n",
       "    </tr>\n",
       "    <tr>\n",
       "      <th>1</th>\n",
       "      <td>meiya</td>\n",
       "      <td>5504534</td>\n",
       "      <td>图书 / 非虚构</td>\n",
       "      <td>本书预售结束正式上架，预售期间购买的用户将可获得全部内容，其中：Web阅读器用户：全部内容将...</td>\n",
       "      <td>537</td>\n",
       "      <td>12.00</td>\n",
       "      <td>上海雅众文化</td>\n",
       "      <td>6.8</td>\n",
       "      <td>[序 你的痛苦并非独一无二，你的努力也并不苍白虚弱,  爱是付出，是成长，是旅程, 是要冷酷...</td>\n",
       "      <td>[心理学, 哲学, 励志, 成长, meiya, 情感与成长]</td>\n",
       "      <td>他爱的是玫瑰，而你是蔷薇</td>\n",
       "      <td>https://read.douban.com/ebook/5504534/</td>\n",
       "    </tr>\n",
       "    <tr>\n",
       "      <th>2</th>\n",
       "      <td>〔奥〕西格蒙德·弗洛伊德</td>\n",
       "      <td>5606260</td>\n",
       "      <td>图书 / 非虚构</td>\n",
       "      <td>《自我与本我》收录了弗洛伊德后期的三篇成熟作品：《超越唯乐原则》、《集体心理学和自我的分析》...</td>\n",
       "      <td>538</td>\n",
       "      <td>6.00</td>\n",
       "      <td>上海译文出版社</td>\n",
       "      <td>8.4</td>\n",
       "      <td>[译者序, 超越唯乐原则, , , , , , , , 集体心理学和自我的分析,  导论, ...</td>\n",
       "      <td>[心理学, 哲学, 心理, 精神分析, 弗洛伊德, 自我与本我, 译文经典]</td>\n",
       "      <td>自我与本我</td>\n",
       "      <td>https://read.douban.com/ebook/5606260/</td>\n",
       "    </tr>\n",
       "    <tr>\n",
       "      <th>3</th>\n",
       "      <td>〔英〕理查德·道金斯</td>\n",
       "      <td>5083852</td>\n",
       "      <td>图书 / 非虚构</td>\n",
       "      <td>《自私的基因》是20世纪最经典的著作，这版三十周年纪念版，在前版本基础上有两章增补和修订。我...</td>\n",
       "      <td>3638</td>\n",
       "      <td>27.00</td>\n",
       "      <td>中信出版社</td>\n",
       "      <td>8.7</td>\n",
       "      <td>[周年版简介, 第二版前言, 序言, 前言,  为什么会有人呢？,  复制基因,  不朽的双...</td>\n",
       "      <td>[科普, 心理学, 哲学, 进化论, 理查德·道金斯, 贺岁书]</td>\n",
       "      <td>自私的基因</td>\n",
       "      <td>https://read.douban.com/ebook/5083852/</td>\n",
       "    </tr>\n",
       "    <tr>\n",
       "      <th>4</th>\n",
       "      <td>〔英〕阿兰·德波顿</td>\n",
       "      <td>1309624</td>\n",
       "      <td>图书 / 非虚构</td>\n",
       "      <td>这本书并非一本充满学术语言的“高深”著作。它用通俗、有趣的语言，为现代人解读了“身份”的前世...</td>\n",
       "      <td>6279</td>\n",
       "      <td>19.00</td>\n",
       "      <td>上海译文出版社</td>\n",
       "      <td>8.2</td>\n",
       "      <td>[中文版序言, 界 定, 第一部分 焦虑起因,  渴求身份, 追求显耀的身份, 爱的重要性,...</td>\n",
       "      <td>[心理学, 文学, 哲学, 自我, 焦虑, 人文社科, 认识, 阿兰·德波顿]</td>\n",
       "      <td>身份的焦虑</td>\n",
       "      <td>https://read.douban.com/ebook/1309624/</td>\n",
       "    </tr>\n",
       "    <tr>\n",
       "      <th>5</th>\n",
       "      <td>〔奥〕佛洛伊德</td>\n",
       "      <td>655999</td>\n",
       "      <td>图书 / 非虚构</td>\n",
       "      <td>《梦的解析》最初发表于1900年，被誉为精神分析第一名著。它通过对梦境的科学探索和解释，找破...</td>\n",
       "      <td>19</td>\n",
       "      <td>2.98</td>\n",
       "      <td>新华先锋出版科技</td>\n",
       "      <td>7.9</td>\n",
       "      <td>[导读,  一九〇〇年之前涉及梦的科学研究,  梦之解析方法的研讨：对于一个梦的解析,  梦...</td>\n",
       "      <td>[经典, 心理学, 哲学, 梦, 精神分析, 佛洛伊德, 夏日阅读, 类型小说]</td>\n",
       "      <td>梦的解析</td>\n",
       "      <td>https://read.douban.com/ebook/655999/</td>\n",
       "    </tr>\n",
       "    <tr>\n",
       "      <th>6</th>\n",
       "      <td>费勇</td>\n",
       "      <td>5332121</td>\n",
       "      <td>图书 / 非虚构</td>\n",
       "      <td>寒山，唐代避世隐居的禅学高僧，在欧美享有超越李白、杜甫的知名度与追捧。他是美国“垮掉的一代”...</td>\n",
       "      <td>166</td>\n",
       "      <td>10.50</td>\n",
       "      <td>凤凰联动</td>\n",
       "      <td>7.7</td>\n",
       "      <td>[每时每刻皆为逍遥时光：禅疯子寒山的八堂修心课, 写在前面, 课前课 疯着疯着就逍遥了, 各...</td>\n",
       "      <td>[心理学, 哲学, 人生, 佛学, 人文社科, 费勇]</td>\n",
       "      <td>每时每刻皆为逍遥时光</td>\n",
       "      <td>https://read.douban.com/ebook/5332121/</td>\n",
       "    </tr>\n",
       "    <tr>\n",
       "      <th>7</th>\n",
       "      <td>〔美〕丹尼尔·丹内特</td>\n",
       "      <td>4546895</td>\n",
       "      <td>图书 / 非虚构</td>\n",
       "      <td>本书中，作者用缜密的逻辑和丰富的叙述，推理出我们如何在动物世界中独一无二地进化出了赋予我们自...</td>\n",
       "      <td>132</td>\n",
       "      <td>18.00</td>\n",
       "      <td>汉唐阳光</td>\n",
       "      <td>7.9</td>\n",
       "      <td>[自由的进化, 序,  自然自由, 认清我们是什么, 我是我所是, 我们呼吸的空气, 小飞象...</td>\n",
       "      <td>[心理学, 哲学, 心理, 进化论, 科学, 人文社科, 出版社巡礼季]</td>\n",
       "      <td>自由的进化</td>\n",
       "      <td>https://read.douban.com/ebook/4546895/</td>\n",
       "    </tr>\n",
       "    <tr>\n",
       "      <th>8</th>\n",
       "      <td>哲不解</td>\n",
       "      <td>2192495</td>\n",
       "      <td>图书 / 非虚构</td>\n",
       "      <td>这位清华大学哲学女博士本是无心插柳，没想到一夜蹿红。她以清新健雅的笔法写了历史上最著名的二十...</td>\n",
       "      <td>1461</td>\n",
       "      <td>5.99</td>\n",
       "      <td>磨铁数盟</td>\n",
       "      <td>6.7</td>\n",
       "      <td>[哲学十二钗正册, 老宅男康德, 处女座的黑格尔, 马克思的灵魂, 美女、才女、痴情女：汉娜...</td>\n",
       "      <td>[科普, 心理学, 哲学, 文化, 哲学家, 西方]</td>\n",
       "      <td>不疯魔，不哲学</td>\n",
       "      <td>https://read.douban.com/ebook/2192495/</td>\n",
       "    </tr>\n",
       "    <tr>\n",
       "      <th>9</th>\n",
       "      <td>〔奥〕弗洛伊德</td>\n",
       "      <td>4575846</td>\n",
       "      <td>图书 / 非虚构</td>\n",
       "      <td>即日起至7月30日，购买全套《弗洛伊德文集》（ http://dou.bz/0PBMpw）即...</td>\n",
       "      <td>16</td>\n",
       "      <td>8.00</td>\n",
       "      <td>华文天下</td>\n",
       "      <td>8.0</td>\n",
       "      <td>[达·芬奇的童年回忆, 戏剧中的变态人物, 按 语, 詹森的《格拉迪沃》中的幻觉与梦, 按 ...</td>\n",
       "      <td>[心理学, 哲学, 弗洛伊德, 人文社科, 达·芬奇, 车文博, 弗洛伊德文集]</td>\n",
       "      <td>达·芬奇的童年回忆</td>\n",
       "      <td>https://read.douban.com/ebook/4575846/</td>\n",
       "    </tr>\n",
       "  </tbody>\n",
       "</table>\n",
       "</div>"
      ],
      "text/plain": [
       "         author   book_id   category  \\\n",
       "0  〔奥〕阿尔弗雷德·阿德勒  19027390  图书 / 非虚构    \n",
       "1         meiya   5504534  图书 / 非虚构    \n",
       "2  〔奥〕西格蒙德·弗洛伊德   5606260  图书 / 非虚构    \n",
       "3    〔英〕理查德·道金斯   5083852  图书 / 非虚构    \n",
       "4    〔英〕阿兰·德波顿    1309624  图书 / 非虚构    \n",
       "5       〔奥〕佛洛伊德    655999  图书 / 非虚构    \n",
       "6            费勇   5332121  图书 / 非虚构    \n",
       "7    〔美〕丹尼尔·丹内特   4546895  图书 / 非虚构    \n",
       "8           哲不解   2192495  图书 / 非虚构    \n",
       "9       〔奥〕弗洛伊德   4575846  图书 / 非虚构    \n",
       "\n",
       "                                                desc  eveluate_nums  price  \\\n",
       "0  《自卑与超越》是个体心理学的先驱阿德勒的代表作，作者从探寻人生的意义出发，启迪我们去理解真实...            223   1.99   \n",
       "1  本书预售结束正式上架，预售期间购买的用户将可获得全部内容，其中：Web阅读器用户：全部内容将...            537  12.00   \n",
       "2  《自我与本我》收录了弗洛伊德后期的三篇成熟作品：《超越唯乐原则》、《集体心理学和自我的分析》...            538   6.00   \n",
       "3  《自私的基因》是20世纪最经典的著作，这版三十周年纪念版，在前版本基础上有两章增补和修订。我...           3638  27.00   \n",
       "4  这本书并非一本充满学术语言的“高深”著作。它用通俗、有趣的语言，为现代人解读了“身份”的前世...           6279  19.00   \n",
       "5  《梦的解析》最初发表于1900年，被誉为精神分析第一名著。它通过对梦境的科学探索和解释，找破...             19   2.98   \n",
       "6  寒山，唐代避世隐居的禅学高僧，在欧美享有超越李白、杜甫的知名度与追捧。他是美国“垮掉的一代”...            166  10.50   \n",
       "7  本书中，作者用缜密的逻辑和丰富的叙述，推理出我们如何在动物世界中独一无二地进化出了赋予我们自...            132  18.00   \n",
       "8  这位清华大学哲学女博士本是无心插柳，没想到一夜蹿红。她以清新健雅的笔法写了历史上最著名的二十...           1461   5.99   \n",
       "9  即日起至7月30日，购买全套《弗洛伊德文集》（ http://dou.bz/0PBMpw）即...             16   8.00   \n",
       "\n",
       "  publisher  score                                     table_contents  \\\n",
       "0     斯坦威图书    7.2                               [阿德勒：超越自卑，找到生命的真正意义]   \n",
       "1    上海雅众文化    6.8  [序 你的痛苦并非独一无二，你的努力也并不苍白虚弱,  爱是付出，是成长，是旅程, 是要冷酷...   \n",
       "2   上海译文出版社    8.4  [译者序, 超越唯乐原则, , , , , , , , 集体心理学和自我的分析,  导论, ...   \n",
       "3     中信出版社    8.7  [周年版简介, 第二版前言, 序言, 前言,  为什么会有人呢？,  复制基因,  不朽的双...   \n",
       "4   上海译文出版社    8.2  [中文版序言, 界 定, 第一部分 焦虑起因,  渴求身份, 追求显耀的身份, 爱的重要性,...   \n",
       "5  新华先锋出版科技    7.9  [导读,  一九〇〇年之前涉及梦的科学研究,  梦之解析方法的研讨：对于一个梦的解析,  梦...   \n",
       "6      凤凰联动    7.7  [每时每刻皆为逍遥时光：禅疯子寒山的八堂修心课, 写在前面, 课前课 疯着疯着就逍遥了, 各...   \n",
       "7      汉唐阳光    7.9  [自由的进化, 序,  自然自由, 认清我们是什么, 我是我所是, 我们呼吸的空气, 小飞象...   \n",
       "8      磨铁数盟    6.7  [哲学十二钗正册, 老宅男康德, 处女座的黑格尔, 马克思的灵魂, 美女、才女、痴情女：汉娜...   \n",
       "9      华文天下    8.0  [达·芬奇的童年回忆, 戏剧中的变态人物, 按 语, 詹森的《格拉迪沃》中的幻觉与梦, 按 ...   \n",
       "\n",
       "                                       tags         title  \\\n",
       "0                 [心理学, 哲学, 生活, 精神分析, 弗洛伊德]     自卑与超越（新版）   \n",
       "1           [心理学, 哲学, 励志, 成长, meiya, 情感与成长]  他爱的是玫瑰，而你是蔷薇   \n",
       "2    [心理学, 哲学, 心理, 精神分析, 弗洛伊德, 自我与本我, 译文经典]         自我与本我   \n",
       "3          [科普, 心理学, 哲学, 进化论, 理查德·道金斯, 贺岁书]         自私的基因   \n",
       "4   [心理学, 文学, 哲学, 自我, 焦虑, 人文社科, 认识, 阿兰·德波顿]         身份的焦虑   \n",
       "5  [经典, 心理学, 哲学, 梦, 精神分析, 佛洛伊德, 夏日阅读, 类型小说]          梦的解析   \n",
       "6               [心理学, 哲学, 人生, 佛学, 人文社科, 费勇]    每时每刻皆为逍遥时光   \n",
       "7      [心理学, 哲学, 心理, 进化论, 科学, 人文社科, 出版社巡礼季]         自由的进化   \n",
       "8                [科普, 心理学, 哲学, 文化, 哲学家, 西方]       不疯魔，不哲学   \n",
       "9  [心理学, 哲学, 弗洛伊德, 人文社科, 达·芬奇, 车文博, 弗洛伊德文集]     达·芬奇的童年回忆   \n",
       "\n",
       "                                       url  \n",
       "0  https://read.douban.com/ebook/19027390/  \n",
       "1   https://read.douban.com/ebook/5504534/  \n",
       "2   https://read.douban.com/ebook/5606260/  \n",
       "3   https://read.douban.com/ebook/5083852/  \n",
       "4   https://read.douban.com/ebook/1309624/  \n",
       "5    https://read.douban.com/ebook/655999/  \n",
       "6   https://read.douban.com/ebook/5332121/  \n",
       "7   https://read.douban.com/ebook/4546895/  \n",
       "8   https://read.douban.com/ebook/2192495/  \n",
       "9   https://read.douban.com/ebook/4575846/  "
      ]
     },
     "execution_count": 164,
     "metadata": {},
     "output_type": "execute_result"
    }
   ],
   "source": [
    "\n",
    "df_target.head(10)"
   ]
  },
  {
   "cell_type": "code",
   "execution_count": 107,
   "metadata": {
    "collapsed": true
   },
   "outputs": [],
   "source": [
    "df = df.drop_duplicates(subset='book_id')\n",
    "df = df.reset_index(drop=True)"
   ]
  },
  {
   "cell_type": "code",
   "execution_count": 108,
   "metadata": {
    "collapsed": false
   },
   "outputs": [
    {
     "name": "stdout",
     "output_type": "stream",
     "text": [
      "<class 'pandas.core.frame.DataFrame'>\n",
      "RangeIndex: 1030 entries, 0 to 1029\n",
      "Data columns (total 12 columns):\n",
      "author            1030 non-null object\n",
      "book_id           1030 non-null int64\n",
      "category          1030 non-null object\n",
      "desc              1030 non-null object\n",
      "eveluate_nums     1030 non-null int64\n",
      "price             1030 non-null float64\n",
      "publisher         1030 non-null object\n",
      "score             1030 non-null float64\n",
      "table_contents    1030 non-null object\n",
      "tags              1030 non-null object\n",
      "title             1030 non-null object\n",
      "url               1030 non-null object\n",
      "dtypes: float64(2), int64(2), object(8)\n",
      "memory usage: 96.6+ KB\n"
     ]
    }
   ],
   "source": [
    "df.info()"
   ]
  },
  {
   "cell_type": "code",
   "execution_count": 6,
   "metadata": {
    "collapsed": true
   },
   "outputs": [],
   "source": [
    "index_high = (df.score >=8)\n",
    "index_popular = df.eveluate_nums >= 0\n",
    "top_list = index_high & index_popular"
   ]
  },
  {
   "cell_type": "code",
   "execution_count": 7,
   "metadata": {
    "collapsed": false
   },
   "outputs": [
    {
     "data": {
      "text/html": [
       "<div>\n",
       "<table border=\"1\" class=\"dataframe\">\n",
       "  <thead>\n",
       "    <tr style=\"text-align: right;\">\n",
       "      <th></th>\n",
       "      <th>title</th>\n",
       "      <th>score</th>\n",
       "      <th>author</th>\n",
       "      <th>publisher</th>\n",
       "      <th>eveluate_nums</th>\n",
       "    </tr>\n",
       "  </thead>\n",
       "  <tbody>\n",
       "    <tr>\n",
       "      <th>135</th>\n",
       "      <td>武志红心智成长系列（三册套装）</td>\n",
       "      <td>9.6</td>\n",
       "      <td>武志红</td>\n",
       "      <td>游遍星辰</td>\n",
       "      <td>20</td>\n",
       "    </tr>\n",
       "    <tr>\n",
       "      <th>46</th>\n",
       "      <td>爱是唯一的真相</td>\n",
       "      <td>9.5</td>\n",
       "      <td>〔美〕布莱恩· 魏斯</td>\n",
       "      <td>游遍星辰</td>\n",
       "      <td>24</td>\n",
       "    </tr>\n",
       "    <tr>\n",
       "      <th>9</th>\n",
       "      <td>精神分析引论</td>\n",
       "      <td>9.4</td>\n",
       "      <td>〔奥〕西格蒙德·弗洛伊德</td>\n",
       "      <td>游遍星辰</td>\n",
       "      <td>31</td>\n",
       "    </tr>\n",
       "    <tr>\n",
       "      <th>8</th>\n",
       "      <td>狡猾的情感</td>\n",
       "      <td>9.3</td>\n",
       "      <td>〔以〕埃亚尔·温特（Eyal Winter）</td>\n",
       "      <td>游遍星辰</td>\n",
       "      <td>38</td>\n",
       "    </tr>\n",
       "    <tr>\n",
       "      <th>320</th>\n",
       "      <td>错把妻子当帽子</td>\n",
       "      <td>9.3</td>\n",
       "      <td>〔美〕奥利弗·萨克斯</td>\n",
       "      <td>游遍星辰</td>\n",
       "      <td>30</td>\n",
       "    </tr>\n",
       "    <tr>\n",
       "      <th>181</th>\n",
       "      <td>潜意识与心灵成长</td>\n",
       "      <td>9.2</td>\n",
       "      <td>〔瑞士〕 卡尔·古斯塔夫·荣格</td>\n",
       "      <td>游遍星辰</td>\n",
       "      <td>43</td>\n",
       "    </tr>\n",
       "    <tr>\n",
       "      <th>133</th>\n",
       "      <td>精神分析与灵魂治疗</td>\n",
       "      <td>9.1</td>\n",
       "      <td>〔瑞士〕荣格（Jung,C.G.）</td>\n",
       "      <td>游遍星辰</td>\n",
       "      <td>44</td>\n",
       "    </tr>\n",
       "    <tr>\n",
       "      <th>10</th>\n",
       "      <td>心理学与文学</td>\n",
       "      <td>9.1</td>\n",
       "      <td>〔瑞士〕卡尔·古斯塔夫·荣格</td>\n",
       "      <td>游遍星辰</td>\n",
       "      <td>30</td>\n",
       "    </tr>\n",
       "    <tr>\n",
       "      <th>348</th>\n",
       "      <td>最好的告别</td>\n",
       "      <td>9.0</td>\n",
       "      <td>〔美〕阿图·葛文德</td>\n",
       "      <td>游遍星辰</td>\n",
       "      <td>6307</td>\n",
       "    </tr>\n",
       "    <tr>\n",
       "      <th>79</th>\n",
       "      <td>我们时代的神经症人格</td>\n",
       "      <td>9.0</td>\n",
       "      <td>〔美〕卡伦·霍妮</td>\n",
       "      <td>游遍星辰</td>\n",
       "      <td>59</td>\n",
       "    </tr>\n",
       "  </tbody>\n",
       "</table>\n",
       "</div>"
      ],
      "text/plain": [
       "               title  score                  author publisher  eveluate_nums\n",
       "135  武志红心智成长系列（三册套装）    9.6                     武志红      游遍星辰             20\n",
       "46           爱是唯一的真相    9.5              〔美〕布莱恩· 魏斯      游遍星辰             24\n",
       "9             精神分析引论    9.4            〔奥〕西格蒙德·弗洛伊德      游遍星辰             31\n",
       "8              狡猾的情感    9.3  〔以〕埃亚尔·温特（Eyal Winter）      游遍星辰             38\n",
       "320          错把妻子当帽子    9.3              〔美〕奥利弗·萨克斯      游遍星辰             30\n",
       "181         潜意识与心灵成长    9.2         〔瑞士〕 卡尔·古斯塔夫·荣格      游遍星辰             43\n",
       "133        精神分析与灵魂治疗    9.1       〔瑞士〕荣格（Jung,C.G.）      游遍星辰             44\n",
       "10            心理学与文学    9.1          〔瑞士〕卡尔·古斯塔夫·荣格      游遍星辰             30\n",
       "348            最好的告别    9.0               〔美〕阿图·葛文德      游遍星辰           6307\n",
       "79        我们时代的神经症人格    9.0                〔美〕卡伦·霍妮      游遍星辰             59"
      ]
     },
     "execution_count": 7,
     "metadata": {},
     "output_type": "execute_result"
    }
   ],
   "source": [
    "df[top_list][['title','score','author','publisher','eveluate_nums']].sort_values(by=['score','eveluate_nums'],ascending=False)[:10]"
   ]
  },
  {
   "cell_type": "code",
   "execution_count": null,
   "metadata": {
    "collapsed": true
   },
   "outputs": [],
   "source": [
    "数据清洗"
   ]
  },
  {
   "cell_type": "code",
   "execution_count": 57,
   "metadata": {
    "collapsed": false
   },
   "outputs": [],
   "source": [
    "import re\n",
    "#把常见的标题引语删除\n",
    "\n",
    "def trim_word(strings):\n",
    "    newstring=[]\n",
    "    for string in strings:\n",
    "        r=re.compile(r'^第.*节|^第.*部分|^序言|^前言|^导读|^致谢|^引言|^第.*部|^第.*卷|^\\d.\\d') \n",
    "        newstring.append(r.sub('',string))\n",
    "    return newstring"
   ]
  },
  {
   "cell_type": "code",
   "execution_count": 43,
   "metadata": {
    "collapsed": false
   },
   "outputs": [
    {
     "name": "stdout",
     "output_type": "stream",
     "text": [
      "['被遗忘了的勒庞', '研究的两个起点', '低劣的群体心态', '群体的“道德”', '英雄与群众', '结语：群体的时代与民主', '群体的冲动、易变和急躁', '群体的易受暗示和轻信', '群体情绪的夸张与单纯', '群体的偏执、专横和保守', '群体的道德', '群体的观念', '群体的理性', '群体的想象力', '种族', '传统', '时间', '政治和社会制度', '教育', '形象、词语和套话', '幻觉', '经验', '理性', '群体的领袖', '领袖的动员手段：断言、重复和传染', '名望', '牢固的信念', '群众意见的多变', '异质性群体', '同质性群体']\n"
     ]
    }
   ],
   "source": [
    "print(trim_word(df.loc[0].table_contents))"
   ]
  },
  {
   "cell_type": "code",
   "execution_count": 14,
   "metadata": {
    "collapsed": false
   },
   "outputs": [
    {
     "name": "stdout",
     "output_type": "stream",
     "text": [
      "author                                                   〔法〕古斯塔夫·勒庞\n",
      "book_id                                                    20092726\n",
      "category                                                  图书 / 非虚构 \n",
      "desc              《乌合之众》细致描述了群体心理的一般特征，分析了人们在群聚状态下的心理、道德、行为特征。解释...\n",
      "eveluate_nums                                                    57\n",
      "price                                                          2.99\n",
      "publisher                                                     译林出版社\n",
      "score                                                           7.3\n",
      "table_contents    [　群体的一般特征，精神统一性的心理法则, 　群体的情感与道德, 　群体的观念、推理和想象力...\n",
      "tags                               [心理学, 大众心理学, 人文, 社会科学, 限时特价, 勒庞]\n",
      "title                                                   乌合之众：大众心理研究\n",
      "url                         https://read.douban.com/ebook/20092726/\n",
      "Name: 1, dtype: object\n"
     ]
    }
   ],
   "source": [
    "print(df.loc[1])"
   ]
  },
  {
   "cell_type": "code",
   "execution_count": 58,
   "metadata": {
    "collapsed": false
   },
   "outputs": [],
   "source": [
    "df.clean_contents=df.table_contents.apply(trim_word)"
   ]
  },
  {
   "cell_type": "code",
   "execution_count": 51,
   "metadata": {
    "collapsed": false
   },
   "outputs": [],
   "source": [
    "import jieba"
   ]
  },
  {
   "cell_type": "code",
   "execution_count": 6,
   "metadata": {
    "collapsed": false
   },
   "outputs": [
    {
     "ename": "AttributeError",
     "evalue": "'DataFrame' object has no attribute 'clean_contents'",
     "output_type": "error",
     "traceback": [
      "\u001b[0;31m---------------------------------------------------------------------------\u001b[0m",
      "\u001b[0;31mAttributeError\u001b[0m                            Traceback (most recent call last)",
      "\u001b[0;32m<ipython-input-6-df50cb70ca38>\u001b[0m in \u001b[0;36m<module>\u001b[0;34m()\u001b[0m\n\u001b[0;32m----> 1\u001b[0;31m \u001b[0mprint\u001b[0m\u001b[0;34m(\u001b[0m\u001b[0mdf\u001b[0m\u001b[0;34m.\u001b[0m\u001b[0mclean_contents\u001b[0m\u001b[0;34m)\u001b[0m\u001b[0;34m\u001b[0m\u001b[0m\n\u001b[0m",
      "\u001b[0;32m/Users/SupeRice/anaconda/lib/python3.5/site-packages/pandas/core/generic.py\u001b[0m in \u001b[0;36m__getattr__\u001b[0;34m(self, name)\u001b[0m\n\u001b[1;32m   2670\u001b[0m             \u001b[0;32mif\u001b[0m \u001b[0mname\u001b[0m \u001b[0;32min\u001b[0m \u001b[0mself\u001b[0m\u001b[0;34m.\u001b[0m\u001b[0m_info_axis\u001b[0m\u001b[0;34m:\u001b[0m\u001b[0;34m\u001b[0m\u001b[0m\n\u001b[1;32m   2671\u001b[0m                 \u001b[0;32mreturn\u001b[0m \u001b[0mself\u001b[0m\u001b[0;34m[\u001b[0m\u001b[0mname\u001b[0m\u001b[0;34m]\u001b[0m\u001b[0;34m\u001b[0m\u001b[0m\n\u001b[0;32m-> 2672\u001b[0;31m             \u001b[0;32mreturn\u001b[0m \u001b[0mobject\u001b[0m\u001b[0;34m.\u001b[0m\u001b[0m__getattribute__\u001b[0m\u001b[0;34m(\u001b[0m\u001b[0mself\u001b[0m\u001b[0;34m,\u001b[0m \u001b[0mname\u001b[0m\u001b[0;34m)\u001b[0m\u001b[0;34m\u001b[0m\u001b[0m\n\u001b[0m\u001b[1;32m   2673\u001b[0m \u001b[0;34m\u001b[0m\u001b[0m\n\u001b[1;32m   2674\u001b[0m     \u001b[0;32mdef\u001b[0m \u001b[0m__setattr__\u001b[0m\u001b[0;34m(\u001b[0m\u001b[0mself\u001b[0m\u001b[0;34m,\u001b[0m \u001b[0mname\u001b[0m\u001b[0;34m,\u001b[0m \u001b[0mvalue\u001b[0m\u001b[0;34m)\u001b[0m\u001b[0;34m:\u001b[0m\u001b[0;34m\u001b[0m\u001b[0m\n",
      "\u001b[0;31mAttributeError\u001b[0m: 'DataFrame' object has no attribute 'clean_contents'"
     ]
    }
   ],
   "source": [
    "print(df.clean_contents)"
   ]
  },
  {
   "cell_type": "code",
   "execution_count": 50,
   "metadata": {
    "collapsed": false
   },
   "outputs": [
    {
     "ename": "AttributeError",
     "evalue": "'Series' object has no attribute 'clean_contents'",
     "output_type": "error",
     "traceback": [
      "\u001b[0;31m---------------------------------------------------------------------------\u001b[0m",
      "\u001b[0;31mAttributeError\u001b[0m                            Traceback (most recent call last)",
      "\u001b[0;32m<ipython-input-50-107362608e66>\u001b[0m in \u001b[0;36m<module>\u001b[0;34m()\u001b[0m\n\u001b[0;32m----> 1\u001b[0;31m \u001b[0mprint\u001b[0m\u001b[0;34m(\u001b[0m\u001b[0mdf\u001b[0m\u001b[0;34m.\u001b[0m\u001b[0mloc\u001b[0m\u001b[0;34m[\u001b[0m\u001b[0;36m0\u001b[0m\u001b[0;34m]\u001b[0m\u001b[0;34m.\u001b[0m\u001b[0mclean_contents\u001b[0m\u001b[0;34m)\u001b[0m\u001b[0;34m\u001b[0m\u001b[0m\n\u001b[0m",
      "\u001b[0;32m/Users/SupeRice/anaconda/lib/python3.5/site-packages/pandas/core/generic.py\u001b[0m in \u001b[0;36m__getattr__\u001b[0;34m(self, name)\u001b[0m\n\u001b[1;32m   2670\u001b[0m             \u001b[0;32mif\u001b[0m \u001b[0mname\u001b[0m \u001b[0;32min\u001b[0m \u001b[0mself\u001b[0m\u001b[0;34m.\u001b[0m\u001b[0m_info_axis\u001b[0m\u001b[0;34m:\u001b[0m\u001b[0;34m\u001b[0m\u001b[0m\n\u001b[1;32m   2671\u001b[0m                 \u001b[0;32mreturn\u001b[0m \u001b[0mself\u001b[0m\u001b[0;34m[\u001b[0m\u001b[0mname\u001b[0m\u001b[0;34m]\u001b[0m\u001b[0;34m\u001b[0m\u001b[0m\n\u001b[0;32m-> 2672\u001b[0;31m             \u001b[0;32mreturn\u001b[0m \u001b[0mobject\u001b[0m\u001b[0;34m.\u001b[0m\u001b[0m__getattribute__\u001b[0m\u001b[0;34m(\u001b[0m\u001b[0mself\u001b[0m\u001b[0;34m,\u001b[0m \u001b[0mname\u001b[0m\u001b[0;34m)\u001b[0m\u001b[0;34m\u001b[0m\u001b[0m\n\u001b[0m\u001b[1;32m   2673\u001b[0m \u001b[0;34m\u001b[0m\u001b[0m\n\u001b[1;32m   2674\u001b[0m     \u001b[0;32mdef\u001b[0m \u001b[0m__setattr__\u001b[0m\u001b[0;34m(\u001b[0m\u001b[0mself\u001b[0m\u001b[0;34m,\u001b[0m \u001b[0mname\u001b[0m\u001b[0;34m,\u001b[0m \u001b[0mvalue\u001b[0m\u001b[0;34m)\u001b[0m\u001b[0;34m:\u001b[0m\u001b[0;34m\u001b[0m\u001b[0m\n",
      "\u001b[0;31mAttributeError\u001b[0m: 'Series' object has no attribute 'clean_contents'"
     ]
    }
   ],
   "source": [
    "print(df.loc[0].clean_contents)"
   ]
  },
  {
   "cell_type": "code",
   "execution_count": 85,
   "metadata": {
    "collapsed": false
   },
   "outputs": [],
   "source": [
    "seg_list= jieba.lcut(df.loc[0].table_contents,cut_all=False) # 精确模式"
   ]
  },
  {
   "cell_type": "code",
   "execution_count": 65,
   "metadata": {
    "collapsed": false
   },
   "outputs": [
    {
     "name": "stdout",
     "output_type": "stream",
     "text": [
      "author                                                           刘懿\n",
      "book_id                                                    15839007\n",
      "category                                                  图书 / 非虚构 \n",
      "desc              头部动作5法则，面部表情7要点，轻松避免社交尴尬，眼神交汇8概念，第一时间识破手内心，10种...\n",
      "eveluate_nums                                                     6\n",
      "price                                                             3\n",
      "publisher                                                      游遍星辰\n",
      "score                                                             0\n",
      "table_contents    [奇而实用的身体语言, 类对身体语言的探索, 体语言的来源, 制身体语言的“司令部”, 体语...\n",
      "tags                                        [心理学, 心理, 科学, 趣味, 人际关系]\n",
      "title                                                        身体语言密码\n",
      "url                         https://read.douban.com/ebook/15839007/\n",
      "Name: 1025, dtype: object\n"
     ]
    }
   ],
   "source": [
    "print(df.loc[1025])"
   ]
  },
  {
   "cell_type": "code",
   "execution_count": 94,
   "metadata": {
    "collapsed": false
   },
   "outputs": [
    {
     "name": "stdout",
     "output_type": "stream",
     "text": [
      "['被', '遗忘', '了', '的', '勒庞']\n"
     ]
    }
   ],
   "source": []
  },
  {
   "cell_type": "code",
   "execution_count": 108,
   "metadata": {
    "collapsed": false
   },
   "outputs": [],
   "source": []
  },
  {
   "cell_type": "code",
   "execution_count": 107,
   "metadata": {
    "collapsed": true
   },
   "outputs": [],
   "source": []
  },
  {
   "cell_type": "code",
   "execution_count": 98,
   "metadata": {
    "collapsed": false
   },
   "outputs": [
    {
     "name": "stdout",
     "output_type": "stream",
     "text": [
      "\n"
     ]
    }
   ],
   "source": []
  },
  {
   "cell_type": "code",
   "execution_count": null,
   "metadata": {
    "collapsed": true
   },
   "outputs": [],
   "source": []
  },
  {
   "cell_type": "code",
   "execution_count": 136,
   "metadata": {
    "collapsed": false
   },
   "outputs": [],
   "source": [
    "def get_words(strings):\n",
    "    s = []\n",
    "    new_string=[]\n",
    "    # for word, weight in jieba.analyse.extract_tags(string, topK=10,withWeight=True):\n",
    "    pun = [u'【',u'】',u'（',u'）',u'，',u',',u'。',u'？',u'！',u'!',u'；',u'、',u'：',u'-',u'%',u'(',u')',u':',u'.',u':',u'\"',u'$',u'~',u'\\u3000',u'的',u'']\n",
    "    for string in strings:\n",
    "        s=jieba.lcut(string,cut_all=False)\n",
    "        new_s = filter(lambda x: x not in pun, s)\n",
    "        new_string.append(' '.join(new_s))\n",
    "    return new_string"
   ]
  },
  {
   "cell_type": "code",
   "execution_count": 137,
   "metadata": {
    "collapsed": false
   },
   "outputs": [
    {
     "name": "stdout",
     "output_type": "stream",
     "text": [
      "['被 遗忘 了 勒庞', '研究 两个 起点', '低劣 群体 心态', '群体 “ 道德 ”', '英雄 与 群众', '结语 群体 时代 与 民主', '群体 冲动 易变 和 急躁', '群体 易 受 暗示 和 轻信', '群体 情绪 夸张 与 单纯', '群体 偏执 专横 和 保守', '群体 道德', '群体 观念', '群体 理性', '群体 想象力', '种族', '传统', '时间', '政治 和 社会制度', '教育', '形象 词语 和 套话', '幻觉', '经验', '理性', '群体 领袖', '领袖 动员 手段 断言 重复 和 传染', '名望', '牢固 信念', '群众 意见 多变', '异质性 群体', '同质性 群体']\n"
     ]
    }
   ],
   "source": [
    "print(get_words(df.loc[0].table_contents))"
   ]
  },
  {
   "cell_type": "code",
   "execution_count": 52,
   "metadata": {
    "collapsed": false
   },
   "outputs": [],
   "source": [
    "#对每一行目录分词后，全部连接成为一个字符串\n",
    "def get_words_all(strings):\n",
    "    s = []\n",
    "    new_string=[]\n",
    "    # for word, weight in jieba.analyse.extract_tags(string, topK=10,withWeight=True):\n",
    "    pun = [u'【',u'】',u'（',u'）',u'，',u',',u'。',u'？',u'！',u'!',u'；',u'、',u'：',u'-',u'%',u'(',u')',u'”',u'.',u':',u'“',u'$',u'~',u'\\u3000',u'的']\n",
    "    for string in strings:\n",
    "        s=jieba.lcut(string,cut_all=False)\n",
    "        new_s = filter(lambda x: x not in pun, s)\n",
    "        new_string.append(' '.join(new_s))\n",
    "        \n",
    "    return ' '.join(new_string)\n",
    "        "
   ]
  },
  {
   "cell_type": "code",
   "execution_count": 72,
   "metadata": {
    "collapsed": false
   },
   "outputs": [
    {
     "ename": "AttributeError",
     "evalue": "'Series' object has no attribute 'clean_contents'",
     "output_type": "error",
     "traceback": [
      "\u001b[0;31m---------------------------------------------------------------------------\u001b[0m",
      "\u001b[0;31mAttributeError\u001b[0m                            Traceback (most recent call last)",
      "\u001b[0;32m<ipython-input-72-ef9d40854006>\u001b[0m in \u001b[0;36m<module>\u001b[0;34m()\u001b[0m\n\u001b[0;32m----> 1\u001b[0;31m \u001b[0mprint\u001b[0m\u001b[0;34m(\u001b[0m\u001b[0mget_words_all\u001b[0m\u001b[0;34m(\u001b[0m\u001b[0mdf\u001b[0m\u001b[0;34m.\u001b[0m\u001b[0mloc\u001b[0m\u001b[0;34m[\u001b[0m\u001b[0;36m0\u001b[0m\u001b[0;34m]\u001b[0m\u001b[0;34m.\u001b[0m\u001b[0mclean_contents\u001b[0m\u001b[0;34m)\u001b[0m\u001b[0;34m)\u001b[0m\u001b[0;34m\u001b[0m\u001b[0m\n\u001b[0m",
      "\u001b[0;32m/Users/SupeRice/anaconda/lib/python3.5/site-packages/pandas/core/generic.py\u001b[0m in \u001b[0;36m__getattr__\u001b[0;34m(self, name)\u001b[0m\n\u001b[1;32m   2670\u001b[0m             \u001b[0;32mif\u001b[0m \u001b[0mname\u001b[0m \u001b[0;32min\u001b[0m \u001b[0mself\u001b[0m\u001b[0;34m.\u001b[0m\u001b[0m_info_axis\u001b[0m\u001b[0;34m:\u001b[0m\u001b[0;34m\u001b[0m\u001b[0m\n\u001b[1;32m   2671\u001b[0m                 \u001b[0;32mreturn\u001b[0m \u001b[0mself\u001b[0m\u001b[0;34m[\u001b[0m\u001b[0mname\u001b[0m\u001b[0;34m]\u001b[0m\u001b[0;34m\u001b[0m\u001b[0m\n\u001b[0;32m-> 2672\u001b[0;31m             \u001b[0;32mreturn\u001b[0m \u001b[0mobject\u001b[0m\u001b[0;34m.\u001b[0m\u001b[0m__getattribute__\u001b[0m\u001b[0;34m(\u001b[0m\u001b[0mself\u001b[0m\u001b[0;34m,\u001b[0m \u001b[0mname\u001b[0m\u001b[0;34m)\u001b[0m\u001b[0;34m\u001b[0m\u001b[0m\n\u001b[0m\u001b[1;32m   2673\u001b[0m \u001b[0;34m\u001b[0m\u001b[0m\n\u001b[1;32m   2674\u001b[0m     \u001b[0;32mdef\u001b[0m \u001b[0m__setattr__\u001b[0m\u001b[0;34m(\u001b[0m\u001b[0mself\u001b[0m\u001b[0;34m,\u001b[0m \u001b[0mname\u001b[0m\u001b[0;34m,\u001b[0m \u001b[0mvalue\u001b[0m\u001b[0;34m)\u001b[0m\u001b[0;34m:\u001b[0m\u001b[0;34m\u001b[0m\u001b[0m\n",
      "\u001b[0;31mAttributeError\u001b[0m: 'Series' object has no attribute 'clean_contents'"
     ]
    }
   ],
   "source": [
    "print(get_words_all(df.loc[0].clean_contents))"
   ]
  },
  {
   "cell_type": "code",
   "execution_count": 73,
   "metadata": {
    "collapsed": false
   },
   "outputs": [],
   "source": [
    "df.cut_contents=df.clean_contents.apply(get_words_all)"
   ]
  },
  {
   "cell_type": "code",
   "execution_count": 74,
   "metadata": {
    "collapsed": false
   },
   "outputs": [
    {
     "name": "stdout",
     "output_type": "stream",
     "text": [
      "0       被 遗忘 了 勒庞 研究 两个 起点 低劣 群体 心态 群体 道德 英雄 与 群众 结语 群...\n",
      "1       群体 一般 特征 精神 统一性 心理 法则 群体 情感 与 道德 群体 观念 推理 和 想象...\n",
      "2       活在 全部 现在   从 当下 出发 联结 过去 与 未来 对 五年 后 自己 提问   如...\n",
      "3                                   阿德勒 超越 自卑 找到 生命 真正 意义\n",
      "4       生理 缺陷 溺爱 忽视 强化 生活 方式 象征 与 隐喻 长 子女 次 子女 幼子 女 独生...\n",
      "5        心理学 宗旨 观点 和 应用 1 研究 人 行为 和 经历 是 心理学 任务 2 心理学 ...\n",
      "6       乌合之众 勒庞 《 乌合之众 》 得与失 作者 前言 导   言 群体 时代   群体 心理...\n",
      "7        幼少期 彷徨 与 决断 性爱 精神性 处女 情结 肉体 记忆 男人 为何 流连 花巷 结婚...\n",
      "8         内在 人格   混乱 时期         老师 诞生                超...\n",
      "9       译本 前言 序 — — 群体 时代 卷 一 群体 心理   群体 一般 特征 群体 精神 统...\n",
      "10      读心术   真能 读懂 别人 心思 吗 笛卡尔 大 错误 非 语言 和 无意识 你 已经 在...\n",
      "11      你 就是 脸皮 太薄   我 也 曾经 脸皮 不够 厚 幸好 有 85 条 羞怯 克星   ...\n",
      "12      序   你 痛苦 并非 独一无二 你 努力 也 并 不 苍白 虚弱   爱是 付出 是 成长...\n",
      "13      遇见 孩子 遇见 更好 自己   让 我们 彼此 关照 共同 成长   遇见 孩子 遇见 更...\n",
      "14      译者 序 超越 唯乐 原则        集体 心理学 和 自我 分析   导论   勒邦 ...\n",
      "15      周年 版 简介 第二 版 前言     为什么 会 有人 呢   复制基因   不朽 双螺旋...\n",
      "16      不 拼 现在 拿 什么 赢 将来   成功 是 什么   锚定 成功 成功 最 重要 因素 ...\n",
      "17       充分利用 本书 九项 建议   与 人 交往 基本 技巧 若 要 采撷 蜂蜜 请 不要 莽...\n",
      "18      让 我们 生命 有 自己 价值 古典 其人 很 古典 买房 卖 梦想 房奴 一套 房子 消灭...\n",
      "19        习惯 疗法   个体 习惯   习惯 回路   习惯 是 如何 运作 某段 记忆 比 另...\n",
      "20      中文版 序言 界   定   焦虑 起因   渴求 身份 追求 显耀 身份 爱 重要性   ...\n",
      "21      前   言 序   言   品牌 戒毒   买 吧 买 吧 宝贝 品牌 从 我们 在 娘胎 ...\n",
      "22      小序 爱情 不是 生活 全部 只 占 30 比例 分手 到底 威胁 了 谁 他 跟 你 分手...\n",
      "23      自序 幸存 偏误 游泳 选手 身材 错觉 过度 自信 效应 从众 心理 纠缠 于 沉没 成本...\n",
      "24      思考 快 与 慢    系统 1 系统 2 一张 愤怒 脸 和 一道 乘法 题 行为 与 注...\n",
      "25      代序 谈谈 搭讪 绪论 关于 搭讪 学   有关 搭讪 为什么 要 搭讪 搭讪 挑战 中国 ...\n",
      "26         换种 思路   人 几乎 决定 一切   观念 和 沟通   面对 强硬 谈判 对手 ...\n",
      "27      序   从 轮回 到 孵化器 PART1   爱情 是 一种 轮回 迷恋 源自 幻象 爱 一...\n",
      "28      关键 对话 赞誉 第 2 版序 第 1 版序 译者 序    何谓 关键 对话   掌握 关...\n",
      "29         一 九 〇 〇 年 之前 涉及 梦 科学研究   梦 之 解析 方法 研讨 对于 一个...\n",
      "                              ...                        \n",
      "1000    人生 困境 整理 术  上 篇   自我 困境 整理   整理 自我 感谢 自己 不 完美 ...\n",
      "1001    梦 与 清醒 状态 关系 梦 材料 梦中 记忆 梦 刺激 和 来源 为什么 人 醒来 后 就...\n",
      "1002    人类 困境 从 儿童期 就 已经 开始 推荐 序用 阿德勒 眼 耳 心 来看 现今 心理 问...\n",
      "1003    亲密 瞬间 吸引 隐秘 力量   发现 神奇   示弱 人质 谈判者 和 亲密 催化剂   ...\n",
      "1004    那些 动物 们 … … 癫痫 鹦鹉 福楼拜 这个 人 不如 福楼拜 这个 作家 戴白 手套 ...\n",
      "1005    关于 本书 他们 这样 评价 … … 专家 导读 一   你 撞 上 你 幸福 了 吗 专家...\n",
      "1006    受益 一生 心理学 知识    心理学 基础 心理学 产生 与 发展 心理学 研究 什么 现...\n",
      "1007    生活 意义 我们 必须 认识 到 三项 事实 社会 对 人 影响 童年 塑造 生活 意义 记...\n",
      "1008    谁 人生 不 迷茫 轻松 面对 人生 50 个 心理 问题  一 命运 人生 本 无 注定 ...\n",
      "1009    心理学家 告诉 你 色彩 心理学 很 炫 性格 色彩 小 测试 用 色彩 扮靓 自己 各色 ...\n",
      "1010    美好 心路历程 学生 心理健康 悦读  自己 心里 有 眼睛 学会 适应 生活 智慧 非凡 ...\n",
      "1011    群体 一般 特征 群体 感情 和 道德观 群体 观念 推理 与 想象力 群体 信仰 所 采取...\n",
      "1012      心理 与 心理学   心理 基本 特性   幼儿 心理学 概述   研究 幼儿 心理 方...\n",
      "1013      突破 一元化 思路 寻求 多元化 出路   有 怎样 平台 就 有 怎样 依托   定位...\n",
      "1014    关于 黑猩猩 笑话 怀疑论者 乐观主义 者 关于 预测 预测 盲人 辨色 让 医学 接受 试...\n",
      "1015    钟 看透 对方 心理  以貌察人 1 分钟 读懂 对方 看 相貌 知 性格 观 鼻语 知 内...\n",
      "1016    冥想 是 放松 开始  Part1   走入 内在 秘密 花园 ＊ 冥想 是 什么 ＊ 来自...\n",
      "1017    一个 人 狂欢 — 内向 性格 力量 性格外向 社会 术语 定义 每个 人 都 有 内向 性...\n",
      "1018    怪诞 心理学   揭秘 人际交往 中 怪异 现象  Part   01 你 应当 知道 几种...\n",
      "1019    挣脱 自卑 束缚 逃避 最终 害 是 自己 远离 嫉妒 心理 莫让 人生 之路 越 走 越 ...\n",
      "1020    阳光 疗愈力 中文版 序 走出 户外 去 晒 晒太阳 吧 感谢 简介   让 身体 和 心灵...\n",
      "1021    宽恕 就是 爱 3 对 保罗 · 费里尼 作品 赞誉 致 读者  PART   1 幸福 是...\n",
      "1022    活 出 全新 自己 都市 心灵 修行 课 译者 序 和 苦难 交个 朋友 保持 一颗 善心 ...\n",
      "1023    爱 与 死 幽灵 学 内容简介 赞语 导论   爱 与 死 幽灵 学 — — 今天 意识形态...\n",
      "1024    情商 力 序   言   情商 力 你 第一 能力 情商 决定 命运 最 关键因素 要 成功...\n",
      "1025    奇而 实用 身体语言 类 对 身体语言 探索 体 语言 来源 制 身体语言 司令部 体 语言...\n",
      "1026    富人 总 对 自己 说 我能 穷人 老对 自己 说 恐怕 我 不行 富人 对 财富 大胆 示...\n",
      "1027    为什么 男人 爱 说谎 女人 爱哭  爱 说谎 是 男人 原罪 1 男人 天生 谎言 家 2...\n",
      "1028    定律 一 破碎 我们 被 选择 被 决定 定律 二 破碎 精神 胚胎 被 压制 给予 孩子 ...\n",
      "1029    人性 优点 经典 励志 文丛  如何 从 这 本书 里 获得 最大 效益 如何 对付 忧虑 ...\n",
      "Name: table_contents, dtype: object\n"
     ]
    }
   ],
   "source": [
    "print(df.cut_contents)"
   ]
  },
  {
   "cell_type": "code",
   "execution_count": 82,
   "metadata": {
    "collapsed": false
   },
   "outputs": [
    {
     "name": "stdout",
     "output_type": "stream",
     "text": [
      "['', '心理学的宗旨、观点和应用', '1\\u3000研究人的行为和经历是心理学的任务', '2\\u3000心理学是研究领域', '2.1\\u3000科学研究的目的', '2.2\\u3000科学调查的若干特征', '3\\u3000关于人类行为的观点', '3.1\\u3000科学心理学的开端', '3.2\\u3000近代的理论观点', '4\\u3000应用心理学的若干工作领域', '4.1\\u3000教育心理学', '4.2\\u3000健康心理学', '4.3\\u3000环境心理学', '4.4\\u3000犯罪和司法心理学', '4.5\\u3000临床心理学', '4.6\\u3000劳动心理学、企业和组织心理学', '5\\u3000后续章节展望', '人类的发展心理学：基础和开端', '1\\u3000发展心理学的目的', '2\\u3000发展心理学的基本问题', '2.1\\u3000发育的连续性或者间歇性', '2.2\\u3000遗传—环境问题', '3\\u3000出生前的发育', '4\\u3000出生', '4.1\\u3000出生的正常过程', '4.2\\u3000分娩并发症', '5\\u3000童年早期', '5.1\\u3000身体运功机能的发育', '5.2\\u3000视力的发育', '5.3\\u3000社会—情感联系的发育', '5.4\\u3000认知功能的发育', '5.5\\u3000语言能力的发育', '5.6\\u3000符号功能', '6\\u3000学龄前儿童', '6.1\\u3000认知发育', '6.2\\u3000社会发展', '7\\u3000入学儿童', '7.1\\u3000认知发育', '7.2\\u3000道德判断力的发育', '7.3\\u3000友情关系的发展', '青春期和成年后的发育', '1\\u3000青春期', '1.1\\u3000入学儿童和成年人之间的发育阶段', '1.2\\u3000身体上的变化', '1.3\\u3000认知发育', '1.4\\u3000父母的教育方式', '1.5\\u3000重新调整父母与子女的关系', '1.6\\u3000寻找自我身份', '2\\u3000成人期', '2.1\\u3000成年期发展的若干基础', '2.2\\u3000所选择的领域的发展', '2.3\\u3000人到中年', '2.4\\u3000身体变化：成功养生的其他例子', '3\\u3000人生的终点', '3.1\\u3000近期历史上关于死亡的观念的改变', '3.2\\u3000对死亡的恐惧', '3.3\\u3000面临死亡时的情感反应', '感觉心理学', '1\\u3000感觉系统', '1.1\\u3000感觉器官的一般功能', '1.2\\u3000心理物理学', '2\\u3000感觉数据的解析', '2.1\\u3000感受和感觉之间的区别', '2.2\\u3000信号发现理论', '3\\u3000视觉器官的结构和作用方式', '3.1\\u3000电磁波是视觉感觉印象的基础', '3.2\\u3000接受物理能量并转化为神经搏动', '3.3\\u3000中枢神经系统处理和传递视觉信息', '4\\u3000解释色觉的理论', '5\\u3000形状感觉', '5.1\\u3000加工视觉信息的等级结构', '5.2\\u3000形状感觉中的格式塔原则', '6\\u3000对运动的感觉', '7\\u3000用单眼或双眼观看时的距离感觉', '8\\u3000文化对感觉的影响', '9\\u3000人的意识', '9.1\\u3000意识的特征', '9.2\\u3000意识和注意力', '学习的基本过程', '1\\u3000学习是行为变化的过程', '2\\u3000学习的理论', '2.1\\u3000经典的条件反射', '5.2\\u3000工具性条件反射', '2.3\\u3000操作性条件反射', '2.4\\u3000从认知角度看条件反射', '2.5\\u3000爱德华·托尔曼的认知学习理论', '2.6\\u3000从尝试行为和失败行为到认识', '2.7\\u3000在观察中学习', '记忆心理学', '1\\u3000记忆是信息处理', '1.1\\u3000感觉记录器：感官刺激的入口', '1.2\\u3000短期记忆', '1.3\\u3000长期记忆', '2\\u3000记忆能力的提高', '2.1\\u3000设计练习活动的建议', '2.2\\u3000记忆术', '问题的解决及其前提', '1\\u3000思维', '1.1\\u3000形象的表象：没有感官刺激的感觉', '1.2\\u3000概念的形成和运用', '1.3\\u3000推断性思维', '2\\u3000问题的解决', '2.1\\u3000解决问题的过程的研究', '2.2\\u3000早期经验妨碍问题的解决', '3\\u3000解决问题的行为是智力的表现', '3.1\\u3000智力的特征', '3.2\\u3000探求智力测试方法：途径和歧途', '3.3\\u3000智力研究之路：从结果到过程', '动机心理学', '1\\u3000有动机的行为：特征描述和阐释', '1.1\\u3000有动机的行为的特征', '1.2\\u3000觉察到有目的的行为方式的差别是进行解释的前提', '1.3\\u3000为有动机行为所作的解释和虚假解释：本能论', '2\\u3000关于具体动机的理论', '2.1\\u3000进食行为及其解释', '2.2\\u3000攻击行为及其解释', '2.3\\u3000促进学习动机的若干条件', '2.4\\u3000感觉经历是取得成绩的结果', '2.5\\u3000意志心理学', '情感心理学', '1\\u3000情感的特征和分类', '1.1\\u3000人的情绪的组成', '1.2\\u3000自主神经系统的作用', '1.3\\u3000对未来感情的预知', '2\\u3000解释情感的理论观点', '3\\u3000主观幸福感：特征和产生', '3.1\\u3000主观幸福感的个人原因和社会原因', '3.2\\u3000富裕和主观幸福感', '3.3\\u3000社会比较和主观幸福感', '3.4\\u3000促进产生幸福感的条件', '4\\u3000通过表情社会地传递情感', '4.1\\u3000表达情感是为了增进理解', '4.2\\u3000情感表达的生物学的和经验的前提', '4.3\\u3000所表达的情感对旁观者的影响', '4.4\\u3000在社会状况下表达情感的规则', '4.5\\u3000“伪装”情感的可能性', '5\\u3000通过体态和手势社会地传达情感', '6\\u3000情商', '\\u3000社会过程心理学', '.1\\u3000社会的感觉', '.1.1\\u3000社会公式及其功能', '.1.2\\u3000个人感觉过程中的归因', '.1.3\\u3000偏见心理学', '.2\\u3000从相遇到社会吸引', '.2.1\\u3000促进产生第一次社会接触的条件', '.2.2\\u3000促进相互吸引的条件', '.2.3\\u3000通过爱情建立社会情感联系', '.3\\u3000群体对成员的影响：适应', '.3.1\\u3000经典实验', '.3.2\\u3000接受社会影响的不同原因', '.3.3\\u3000多数人对持不同意见者的反应', '.3.4\\u3000持不同意见者改变多数人的信念', '参考书目', '译后记']\n"
     ]
    }
   ],
   "source": [
    "print(df.clean_contents[5])"
   ]
  },
  {
   "cell_type": "code",
   "execution_count": 66,
   "metadata": {
    "collapsed": false
   },
   "outputs": [],
   "source": [
    "import jieba.analyse\n",
    "text = jieba.analyse.extract_tags(df.cut_contents[0], topK=10, withWeight=True)"
   ]
  },
  {
   "cell_type": "code",
   "execution_count": 67,
   "metadata": {
    "collapsed": false
   },
   "outputs": [
    {
     "name": "stdout",
     "output_type": "stream",
     "text": [
      "[('群体', 1.407222641872174), ('道德', 0.20672998377768115), ('领袖', 0.20220479002695652), ('理性', 0.2002753844884058), ('异质性', 0.18136787378115943), ('同质性', 0.18136787378115943), ('群众', 0.1746098316231884), ('勒庞', 0.17325750004202897), ('结语', 0.16961526195072466), ('易变', 0.16544595655362318)]\n"
     ]
    }
   ],
   "source": [
    "print(text)  #不太理解权重的算法，为什么像“结语”这样只出现了一次的词也会排在前10？"
   ]
  },
  {
   "cell_type": "code",
   "execution_count": 87,
   "metadata": {
    "collapsed": false
   },
   "outputs": [
    {
     "name": "stdout",
     "output_type": "stream",
     "text": [
      "[('勒庞', 5.97738375145), ('遗忘', 4.4759588808)]\n"
     ]
    }
   ],
   "source": [
    "print(jieba.analyse.extract_tags(df.clean_contents[0][0], topK=10, withWeight=True))"
   ]
  },
  {
   "cell_type": "code",
   "execution_count": 75,
   "metadata": {
    "collapsed": false
   },
   "outputs": [],
   "source": [
    "def get_keyword(string):\n",
    "    return jieba.analyse.extract_tags(string, topK=10)\n"
   ]
  },
  {
   "cell_type": "code",
   "execution_count": 76,
   "metadata": {
    "collapsed": false
   },
   "outputs": [],
   "source": [
    "df.keywords=df.cut_contents.apply(get_keyword)"
   ]
  },
  {
   "cell_type": "code",
   "execution_count": 77,
   "metadata": {
    "collapsed": false
   },
   "outputs": [
    {
     "name": "stdout",
     "output_type": "stream",
     "text": [
      "0              [群体, 道德, 领袖, 理性, 异质性, 同质性, 群众, 勒庞, 结语, 易变]\n",
      "1           [群体, 意见, 信念, 刑事法庭, 陪审团, 统一性, 因素, 选民, 想象力, 推理]\n",
      "2               [学习者, 思考, 才能, 选择, 人生, 自己, 提问, 未来, 做到, 挑战]\n",
      "3                           [阿德勒, 自卑, 超越, 生命, 找到, 意义, 真正]\n",
      "4              [童年, 方式, 缺陷, 婚姻, 生理, 生活, 子女, 性格, 培养, 过失犯罪]\n",
      "5         [心理学, 2.1, 情感, 2.2, 1.2, 1.1, 感觉, 发育, 3.1, 1.3]\n",
      "6            [群体, 信念, 意见, 乌合之众, 分类, 心理, 得与失, 代译, 勒庞, 对照表]\n",
      "7              [性爱, 花巷, 衍续, 幼少期, 男人, 出轨, 精神性, 花心, 孱弱, 流连]\n",
      "8                [附记, 后记, 尾声, 人格, 内在, 超越, 诞生, 混乱, 疯狂, 老师]\n",
      "9               [群体, 信念, 主张, 多变, 领袖, 想象力, 推理, 道德, 观念, 分类]\n",
      "10              [读心术, 读心, 亲善, 魔法, 练习, 小结, 提议, 情感, 哪些, 关系]\n",
      "11             [害羞, 羞怯, 脸皮, 克星, 脸皮厚, 自己, 脸皮薄, 冷场, 七种, 不够]\n",
      "12        [爱是, 自己, 搞不定, 爱侣, 水乳交融, 亲密关系, 相敬如宾, 放弃, 旅程, 孤寂]\n",
      "13             [遇见, 孩子, 更好, 父母, 成长, 怎样, 贬低, 心智, 价值观念, 旅程]\n",
      "14          [自我, 附录, 集体, 力比多, 无意识, 勒邦, 心理, 储存器, 唯乐, 原始部落]\n",
      "15            [复制基因, 基因, 机器, 集萃, 觅母, 搔痒, 双螺旋, 代际, 前言, 简介]\n",
      "16            [成功, 些小, 摸索, 永远, 结好果, 总好, 创造, 锚定, 改变命运, 最好]\n",
      "17              [他人, 对方, 创造, 婚姻, 纠错, 受欢迎, 蜂蜜, 真心, 认同, 奇迹]\n",
      "18              [成功, 生命, 职业, 我们, 自己, 心智, 拆掉, 如何, 安全感, 掌控]\n",
      "19            [习惯, 如何, 意志力, 渴求, 重塑, 创造, 成功, 社会, 旧习惯, 星巴克]\n",
      "20               [焦虑, 势利, 身份, 政治, 期望, 制约, 哲学, 故事, 艺术, 遁世]\n",
      "21            [我们, 品牌, 怀旧, 购物狂, 营销者, 购物, 恐惧, 新面孔, 营销, 摩根]\n",
      "22            [爱情, 谈钱, 分手, 男人, 恋爱, 为什么, 伤感情, 女追男, 事儿, 网恋]\n",
      "23          [偏误, 谬误, 效应, 错觉, 忽视, 概率, 认知失调, 确认, 事后诸葛亮, 会先]\n",
      "24              [直觉, 效应, 偏见, 错觉, 决策, 风险, 启发法, 预测, 锚定, 框架]\n",
      "25           [搭讪, 如何, 见招拆招, 女孩, 约会, 怎么办, 短信, 时该, 第一次, 技巧]\n",
      "26      [谈判, 争取, 如何, 不等价, 文化差异, 换种, 公共事务, 进行谈判, 正确处理, ...\n",
      "27           [爱情, 双重, 亲密关系, 安全感, 第三者, 轮回, 服从, 警惕, 支配, 依赖]\n",
      "28      [对话, 附录, 关键, 如何, 版序, 作者, 对方, 10, VitalSmarts, ...\n",
      "29              [梦中, 素材, 解析, 愿望, 起源, 印象, 潜抑, 续发, 从梦中, 凝缩]\n",
      "                              ...                        \n",
      "1000             [整理, 男人, 婚姻, 自己, 情爱, 自我, 困境, 身心, 工作, 如何]\n",
      "1001          [梦中, 来源, 关于, 道德感, 梦例, 和续, 材料, 移置, 功能, 心理特征]\n",
      "1002        [阿德勒, 情结, 附录, 困境, 人生, 咨询者, 序用, 夜梦, 真实世界, 性变态]\n",
      "1003         [亲密, 鸣谢, 谈判者, 结语, 南森, 营火, 力量, 万人迷, 配合默契, 一切]\n",
      "1004          [福楼拜, 鹦鹉, 孔雀, 蝴蝶, 纳博科, 死亡, 性无能, 戴白, 动物, 达利]\n",
      "1005          [幸福, 未来, 幸福感, 导读, 我们, 想象力, 为什么, 现实, 专家, 记忆]\n",
      "1006           [效应, 心理学, 自己, 定律, 情绪, 为什么, 人生, 心理, 思维, 成功]\n",
      "1007            [合作, 婚姻, 青春期, 影响, 孩子, 梦境, 社会, 肉体, 三项, 意义]\n",
      "1008             [心态, 人生, 多疑, 自卑, 怯懦, 自私, 猜疑, 宽容, 挫折, 焦虑]\n",
      "1009             [色彩, 职场, 如绿, 同福, 如蓝, 扮靓, 如红, 如黄, 巧赢, 幻紫]\n",
      "1010           [梦想, 智慧, 总有, 打量, 放弃, 秋实, 胃囊, 悦读, 心路历程, 傻到]\n",
      "1011        [群体, 意见, 信念, 张东荪, 1920, 之序, 道德观, 陪审团, 后记, 因素]\n",
      "1012          [幼儿, 概述, 发展, 心理健康, 心理, 情绪, 认知, 理论, 心理学, 情感]\n",
      "1013           [人生, 一换, 心态, 不同, 成功, 改变, 细节, 思路, 做到, 财运亨通]\n",
      "1014           [预测, 超级, 蜻蜓, 组团, 视角, 关于, 假设, 思考, 概率, 怀疑论者]\n",
      "1015           [性格, 心理, 分钟, 对方, 男人, 方式, 读懂, 内心世界, 个性, 看透]\n",
      "1016          [冥想, 想象, 心灵, 力量, 大脑, 放松, 消极性, 感受力, 宗教, 再启动]\n",
      "1017             [内向, 性格, 外向, 隐退, 独处, 社会, 自己, 节奏, 正视, 道歉]\n",
      "1018          [Part, 为何, 人人, 为什么, 选择, 情绪, 需要, 离职, 亲密, 激情]\n",
      "1019          [心理, 员工, 调适, 了解, 性心理, 婚姻, 恐惧心理, 他人, 孩子, 职场]\n",
      "1020         [阳光, 晒太阳, VS, 日光浴, 疗法, 户外, 疗愈力, 户内, 皮肤癌, 健康]\n",
      "1021         [PART, 欢乐地, 疗愈, 费里尼, 旅程, 宽恕, 赞誉, 回馈, 天赋, 拥抱]\n",
      "1022             [思想, 品性, 生命, 自己, 高尚, 做事, 成功, 自信, 心灵, 奇迹]\n",
      "1023         [意识形态, 批判, 正论, 激进, 女儿国, 歪视, 哲人, 幽灵, 信徒, 主体性]\n",
      "1024            [情商, 效应, 做事, 别人, 修炼, 学会, 自己, 情绪, 逆商, 绊脚石]\n",
      "1025           [姿势, 身体语言, 手势, 握手, 谎言, 密语, 信号, 交叉, 语言, 头部]\n",
      "1026             [富人, 穷人, 狼性, 羊性, 员工, 喜欢, 微商, 创意, 思维, 老板]\n",
      "1027             [女人, 说谎, 男人, 谎言, 眼泪, 原罪, 大话, 亲爱, 坚强, 天生]\n",
      "1028             [切记, 点评, 心理, 理由, 孩子, 感觉, 推荐, 投射, 父母, 破碎]\n",
      "1029             [小结, 忧虑, 本章, 工作, 如何, 习惯, 事业, 良好, 职业, 学会]\n",
      "Name: table_contents, dtype: object\n"
     ]
    }
   ],
   "source": [
    "print(df.keywords)"
   ]
  },
  {
   "cell_type": "code",
   "execution_count": null,
   "metadata": {
    "collapsed": true
   },
   "outputs": [],
   "source": [
    "#把所有关键词放在一起，再求一次关键词"
   ]
  },
  {
   "cell_type": "code",
   "execution_count": null,
   "metadata": {
    "collapsed": true
   },
   "outputs": [],
   "source": [
    "＃把所有书的目录放在一起，直接求关键词"
   ]
  },
  {
   "cell_type": "code",
   "execution_count": 85,
   "metadata": {
    "collapsed": false
   },
   "outputs": [
    {
     "name": "stdout",
     "output_type": "stream",
     "text": [
      "[('群体', 1.0), ('领袖', 0.20511396711739666), ('理性', 0.20237567085561067), ('群众', 0.17832885475376212), ('勒庞', 0.12790480668155402), ('传统', 0.12492295423409466), ('意见', 0.12472436236191424), ('种族', 0.11828617538537618), ('动员', 0.11747300568496719), ('教育', 0.11566129835817375)]\n"
     ]
    }
   ],
   "source": [
    "print(jieba.analyse.textrank(df.cut_contents[0], topK=10, withWeight=True, allowPOS=('ns', 'n', 'vn', 'v')) )"
   ]
  },
  {
   "cell_type": "code",
   "execution_count": 96,
   "metadata": {
    "collapsed": false
   },
   "outputs": [
    {
     "name": "stdout",
     "output_type": "stream",
     "text": [
      "被 遗忘 了 勒庞 研究 两个 起点 低劣 群体 心态 群体 道德 英雄 与 群众 结语 群体 时代 与 民主 群体 冲动 易变 和 急躁 群体 易 受 暗示 和 轻信 群体 情绪 夸张 与 单纯 群体 偏执 专横 和 保守 群体 道德 群体 观念 群体 理性 群体 想象力 种族 传统 时间 政治 和 社会制度 教育 形象 词语 和 套话 幻觉 经验 理性 群体 领袖 领袖 动员 手段 断言 重复 和 传染 名望 牢固 信念 群众 意见 多变 异质性 群体 同质性 群体\n"
     ]
    }
   ],
   "source": [
    "print(df.cut_contents[0])"
   ]
  },
  {
   "cell_type": "code",
   "execution_count": 130,
   "metadata": {
    "collapsed": false
   },
   "outputs": [],
   "source": [
    "from wordcloud import WordCloud, ImageColorGenerator, STOPWORDS\n",
    "from scipy.misc import imread"
   ]
  },
  {
   "cell_type": "code",
   "execution_count": 135,
   "metadata": {
    "collapsed": false
   },
   "outputs": [],
   "source": [
    "text = jieba.analyse.extract_tags(df.cut_contents[0], topK=10, withWeight=True)\n",
    "\n",
    "stop=STOPWORDS.add(\"结语\")\n",
    "base_image = imread(\"book.jpg\")\n",
    "wc = WordCloud(background_color=\"white\",  stopwords=STOPWORDS.add(\"结语\"),font_path='/Library/Fonts/华文仿宋.ttf', \n",
    "               max_words=10, mask=base_image,max_font_size=40, random_state=42)\n",
    "wc.generate_from_frequencies(text)\n",
    "image_colors = ImageColorGenerator(base_image)"
   ]
  },
  {
   "cell_type": "code",
   "execution_count": 136,
   "metadata": {
    "collapsed": false
   },
   "outputs": [
    {
     "data": {
      "image/png": "[encoded data removed]",
      "text/plain": [
       "<matplotlib.figure.Figure at 0x1222bda20>"
      ]
     },
     "metadata": {},
     "output_type": "display_data"
    }
   ],
   "source": [
    "plt.figure(figsize = (15,30))\n",
    "plt.imshow(wc.recolor(color_func=image_colors),aspect='equal')\n",
    "plt.axis(\"off\")\n",
    "plt.show()"
   ]
  },
  {
   "cell_type": "code",
   "execution_count": 120,
   "metadata": {
    "collapsed": false
   },
   "outputs": [
    {
     "ename": "ValueError",
     "evalue": "endog must be in the unit interval.",
     "output_type": "error",
     "traceback": [
      "\u001b[0;31m---------------------------------------------------------------------------\u001b[0m",
      "\u001b[0;31mValueError\u001b[0m                                Traceback (most recent call last)",
      "\u001b[0;32m<ipython-input-120-712eb7613232>\u001b[0m in \u001b[0;36m<module>\u001b[0;34m()\u001b[0m\n\u001b[0;32m----> 1\u001b[0;31m \u001b[0mmodel\u001b[0m \u001b[0;34m=\u001b[0m \u001b[0msmf\u001b[0m\u001b[0;34m.\u001b[0m\u001b[0mlogit\u001b[0m\u001b[0;34m(\u001b[0m\u001b[0;34m\"score ~ eveluate_nums+price \"\u001b[0m\u001b[0;34m,\u001b[0m \u001b[0mdata\u001b[0m\u001b[0;34m=\u001b[0m\u001b[0mdf\u001b[0m\u001b[0;34m)\u001b[0m\u001b[0;34m\u001b[0m\u001b[0m\n\u001b[0m\u001b[1;32m      2\u001b[0m \u001b[0mresult\u001b[0m \u001b[0;34m=\u001b[0m \u001b[0mmodel\u001b[0m\u001b[0;34m.\u001b[0m\u001b[0mfit\u001b[0m\u001b[0;34m(\u001b[0m\u001b[0;34m)\u001b[0m\u001b[0;34m\u001b[0m\u001b[0m\n\u001b[1;32m      3\u001b[0m \u001b[0mprint\u001b[0m\u001b[0;34m(\u001b[0m\u001b[0mresult\u001b[0m\u001b[0;34m.\u001b[0m\u001b[0msummary\u001b[0m\u001b[0;34m(\u001b[0m\u001b[0;34m)\u001b[0m\u001b[0;34m)\u001b[0m\u001b[0;34m\u001b[0m\u001b[0m\n",
      "\u001b[0;32m/Users/SupeRice/anaconda/lib/python3.5/site-packages/statsmodels/base/model.py\u001b[0m in \u001b[0;36mfrom_formula\u001b[0;34m(cls, formula, data, subset, *args, **kwargs)\u001b[0m\n\u001b[1;32m    148\u001b[0m         kwargs.update({'missing_idx': missing_idx,\n\u001b[1;32m    149\u001b[0m                        'missing': missing})\n\u001b[0;32m--> 150\u001b[0;31m         \u001b[0mmod\u001b[0m \u001b[0;34m=\u001b[0m \u001b[0mcls\u001b[0m\u001b[0;34m(\u001b[0m\u001b[0mendog\u001b[0m\u001b[0;34m,\u001b[0m \u001b[0mexog\u001b[0m\u001b[0;34m,\u001b[0m \u001b[0;34m*\u001b[0m\u001b[0margs\u001b[0m\u001b[0;34m,\u001b[0m \u001b[0;34m**\u001b[0m\u001b[0mkwargs\u001b[0m\u001b[0;34m)\u001b[0m\u001b[0;34m\u001b[0m\u001b[0m\n\u001b[0m\u001b[1;32m    151\u001b[0m         \u001b[0mmod\u001b[0m\u001b[0;34m.\u001b[0m\u001b[0mformula\u001b[0m \u001b[0;34m=\u001b[0m \u001b[0mformula\u001b[0m\u001b[0;34m\u001b[0m\u001b[0m\n\u001b[1;32m    152\u001b[0m \u001b[0;34m\u001b[0m\u001b[0m\n",
      "\u001b[0;32m/Users/SupeRice/anaconda/lib/python3.5/site-packages/statsmodels/discrete/discrete_model.py\u001b[0m in \u001b[0;36m__init__\u001b[0;34m(self, endog, exog, **kwargs)\u001b[0m\n\u001b[1;32m    402\u001b[0m         if (self.__class__.__name__ != 'MNLogit' and\n\u001b[1;32m    403\u001b[0m                 not np.all((self.endog >= 0) & (self.endog <= 1))):\n\u001b[0;32m--> 404\u001b[0;31m             \u001b[0;32mraise\u001b[0m \u001b[0mValueError\u001b[0m\u001b[0;34m(\u001b[0m\u001b[0;34m\"endog must be in the unit interval.\"\u001b[0m\u001b[0;34m)\u001b[0m\u001b[0;34m\u001b[0m\u001b[0m\n\u001b[0m\u001b[1;32m    405\u001b[0m \u001b[0;34m\u001b[0m\u001b[0m\n\u001b[1;32m    406\u001b[0m \u001b[0;34m\u001b[0m\u001b[0m\n",
      "\u001b[0;31mValueError\u001b[0m: endog must be in the unit interval."
     ]
    }
   ],
   "source": [
    "model = smf.logit(\"score ~ eveluate_nums+price \", data=df)\n",
    "result = model.fit() \n",
    "print(result.summary())"
   ]
  },
  {
   "cell_type": "code",
   "execution_count": 122,
   "metadata": {
    "collapsed": false
   },
   "outputs": [
    {
     "data": {
      "text/html": [
       "<table class=\"simpletable\">\n",
       "<caption>OLS Regression Results</caption>\n",
       "<tr>\n",
       "  <th>Dep. Variable:</th>          <td>score</td>      <th>  R-squared:         </th> <td>   0.040</td>\n",
       "</tr>\n",
       "<tr>\n",
       "  <th>Model:</th>                   <td>OLS</td>       <th>  Adj. R-squared:    </th> <td>   0.039</td>\n",
       "</tr>\n",
       "<tr>\n",
       "  <th>Method:</th>             <td>Least Squares</td>  <th>  F-statistic:       </th> <td>   42.82</td>\n",
       "</tr>\n",
       "<tr>\n",
       "  <th>Date:</th>             <td>Mon, 07 Nov 2016</td> <th>  Prob (F-statistic):</th> <td>9.47e-11</td>\n",
       "</tr>\n",
       "<tr>\n",
       "  <th>Time:</th>                 <td>17:29:04</td>     <th>  Log-Likelihood:    </th> <td> -2798.3</td>\n",
       "</tr>\n",
       "<tr>\n",
       "  <th>No. Observations:</th>      <td>  1030</td>      <th>  AIC:               </th> <td>   5601.</td>\n",
       "</tr>\n",
       "<tr>\n",
       "  <th>Df Residuals:</th>          <td>  1028</td>      <th>  BIC:               </th> <td>   5611.</td>\n",
       "</tr>\n",
       "<tr>\n",
       "  <th>Df Model:</th>              <td>     1</td>      <th>                     </th>     <td> </td>   \n",
       "</tr>\n",
       "<tr>\n",
       "  <th>Covariance Type:</th>      <td>nonrobust</td>    <th>                     </th>     <td> </td>   \n",
       "</tr>\n",
       "</table>\n",
       "<table class=\"simpletable\">\n",
       "<tr>\n",
       "        <td></td>           <th>coef</th>     <th>std err</th>      <th>t</th>      <th>P>|t|</th> <th>[95.0% Conf. Int.]</th> \n",
       "</tr>\n",
       "<tr>\n",
       "  <th>Intercept</th>     <td>    3.8493</td> <td>    0.116</td> <td>   33.045</td> <td> 0.000</td> <td>    3.621     4.078</td>\n",
       "</tr>\n",
       "<tr>\n",
       "  <th>eveluate_nums</th> <td>    0.0005</td> <td>    8e-05</td> <td>    6.543</td> <td> 0.000</td> <td>    0.000     0.001</td>\n",
       "</tr>\n",
       "</table>\n",
       "<table class=\"simpletable\">\n",
       "<tr>\n",
       "  <th>Omnibus:</th>       <td> 0.659</td> <th>  Durbin-Watson:     </th> <td>   1.831</td>\n",
       "</tr>\n",
       "<tr>\n",
       "  <th>Prob(Omnibus):</th> <td> 0.719</td> <th>  Jarque-Bera (JB):  </th> <td> 145.301</td>\n",
       "</tr>\n",
       "<tr>\n",
       "  <th>Skew:</th>          <td>-0.062</td> <th>  Prob(JB):          </th> <td>2.81e-32</td>\n",
       "</tr>\n",
       "<tr>\n",
       "  <th>Kurtosis:</th>      <td> 1.164</td> <th>  Cond. No.          </th> <td>1.49e+03</td>\n",
       "</tr>\n",
       "</table>"
      ],
      "text/plain": [
       "<class 'statsmodels.iolib.summary.Summary'>\n",
       "\"\"\"\n",
       "                            OLS Regression Results                            \n",
       "==============================================================================\n",
       "Dep. Variable:                  score   R-squared:                       0.040\n",
       "Model:                            OLS   Adj. R-squared:                  0.039\n",
       "Method:                 Least Squares   F-statistic:                     42.82\n",
       "Date:                Mon, 07 Nov 2016   Prob (F-statistic):           9.47e-11\n",
       "Time:                        17:29:04   Log-Likelihood:                -2798.3\n",
       "No. Observations:                1030   AIC:                             5601.\n",
       "Df Residuals:                    1028   BIC:                             5611.\n",
       "Df Model:                           1                                         \n",
       "Covariance Type:            nonrobust                                         \n",
       "=================================================================================\n",
       "                    coef    std err          t      P>|t|      [95.0% Conf. Int.]\n",
       "---------------------------------------------------------------------------------\n",
       "Intercept         3.8493      0.116     33.045      0.000         3.621     4.078\n",
       "eveluate_nums     0.0005      8e-05      6.543      0.000         0.000     0.001\n",
       "==============================================================================\n",
       "Omnibus:                        0.659   Durbin-Watson:                   1.831\n",
       "Prob(Omnibus):                  0.719   Jarque-Bera (JB):              145.301\n",
       "Skew:                          -0.062   Prob(JB):                     2.81e-32\n",
       "Kurtosis:                       1.164   Cond. No.                     1.49e+03\n",
       "==============================================================================\n",
       "\n",
       "Warnings:\n",
       "[1] Standard Errors assume that the covariance matrix of the errors is correctly specified.\n",
       "[2] The condition number is large, 1.49e+03. This might indicate that there are\n",
       "strong multicollinearity or other numerical problems.\n",
       "\"\"\""
      ]
     },
     "execution_count": 122,
     "metadata": {},
     "output_type": "execute_result"
    }
   ],
   "source": [
    "linear_model = smf.ols(formula='score ~ eveluate_nums', data=df)\n",
    "results = linear_model.fit()\n",
    "results.summary()"
   ]
  },
  {
   "cell_type": "code",
   "execution_count": 125,
   "metadata": {
    "collapsed": false
   },
   "outputs": [],
   "source": []
  },
  {
   "cell_type": "code",
   "execution_count": 126,
   "metadata": {
    "collapsed": false
   },
   "outputs": [
    {
     "data": {
      "text/html": [
       "<table class=\"simpletable\">\n",
       "<caption>OLS Regression Results</caption>\n",
       "<tr>\n",
       "  <th>Dep. Variable:</th>          <td>score</td>      <th>  R-squared:         </th> <td>   0.013</td>\n",
       "</tr>\n",
       "<tr>\n",
       "  <th>Model:</th>                   <td>OLS</td>       <th>  Adj. R-squared:    </th> <td>   0.012</td>\n",
       "</tr>\n",
       "<tr>\n",
       "  <th>Method:</th>             <td>Least Squares</td>  <th>  F-statistic:       </th> <td>   7.578</td>\n",
       "</tr>\n",
       "<tr>\n",
       "  <th>Date:</th>             <td>Mon, 07 Nov 2016</td> <th>  Prob (F-statistic):</th>  <td>0.00610</td>\n",
       "</tr>\n",
       "<tr>\n",
       "  <th>Time:</th>                 <td>17:38:15</td>     <th>  Log-Likelihood:    </th> <td> -689.28</td>\n",
       "</tr>\n",
       "<tr>\n",
       "  <th>No. Observations:</th>      <td>   557</td>      <th>  AIC:               </th> <td>   1383.</td>\n",
       "</tr>\n",
       "<tr>\n",
       "  <th>Df Residuals:</th>          <td>   555</td>      <th>  BIC:               </th> <td>   1391.</td>\n",
       "</tr>\n",
       "<tr>\n",
       "  <th>Df Model:</th>              <td>     1</td>      <th>                     </th>     <td> </td>   \n",
       "</tr>\n",
       "<tr>\n",
       "  <th>Covariance Type:</th>      <td>nonrobust</td>    <th>                     </th>     <td> </td>   \n",
       "</tr>\n",
       "</table>\n",
       "<table class=\"simpletable\">\n",
       "<tr>\n",
       "        <td></td>           <th>coef</th>     <th>std err</th>      <th>t</th>      <th>P>|t|</th> <th>[95.0% Conf. Int.]</th> \n",
       "</tr>\n",
       "<tr>\n",
       "  <th>Intercept</th>     <td>    7.3691</td> <td>    0.037</td> <td>  200.588</td> <td> 0.000</td> <td>    7.297     7.441</td>\n",
       "</tr>\n",
       "<tr>\n",
       "  <th>eveluate_nums</th> <td> 5.107e-05</td> <td> 1.86e-05</td> <td>    2.753</td> <td> 0.006</td> <td> 1.46e-05  8.75e-05</td>\n",
       "</tr>\n",
       "</table>\n",
       "<table class=\"simpletable\">\n",
       "<tr>\n",
       "  <th>Omnibus:</th>       <td> 8.556</td> <th>  Durbin-Watson:     </th> <td>   1.974</td>\n",
       "</tr>\n",
       "<tr>\n",
       "  <th>Prob(Omnibus):</th> <td> 0.014</td> <th>  Jarque-Bera (JB):  </th> <td>   8.662</td>\n",
       "</tr>\n",
       "<tr>\n",
       "  <th>Skew:</th>          <td>-0.261</td> <th>  Prob(JB):          </th> <td>  0.0132</td>\n",
       "</tr>\n",
       "<tr>\n",
       "  <th>Kurtosis:</th>      <td> 3.317</td> <th>  Cond. No.          </th> <td>2.05e+03</td>\n",
       "</tr>\n",
       "</table>"
      ],
      "text/plain": [
       "<class 'statsmodels.iolib.summary.Summary'>\n",
       "\"\"\"\n",
       "                            OLS Regression Results                            \n",
       "==============================================================================\n",
       "Dep. Variable:                  score   R-squared:                       0.013\n",
       "Model:                            OLS   Adj. R-squared:                  0.012\n",
       "Method:                 Least Squares   F-statistic:                     7.578\n",
       "Date:                Mon, 07 Nov 2016   Prob (F-statistic):            0.00610\n",
       "Time:                        17:38:15   Log-Likelihood:                -689.28\n",
       "No. Observations:                 557   AIC:                             1383.\n",
       "Df Residuals:                     555   BIC:                             1391.\n",
       "Df Model:                           1                                         \n",
       "Covariance Type:            nonrobust                                         \n",
       "=================================================================================\n",
       "                    coef    std err          t      P>|t|      [95.0% Conf. Int.]\n",
       "---------------------------------------------------------------------------------\n",
       "Intercept         7.3691      0.037    200.588      0.000         7.297     7.441\n",
       "eveluate_nums  5.107e-05   1.86e-05      2.753      0.006      1.46e-05  8.75e-05\n",
       "==============================================================================\n",
       "Omnibus:                        8.556   Durbin-Watson:                   1.974\n",
       "Prob(Omnibus):                  0.014   Jarque-Bera (JB):                8.662\n",
       "Skew:                          -0.261   Prob(JB):                       0.0132\n",
       "Kurtosis:                       3.317   Cond. No.                     2.05e+03\n",
       "==============================================================================\n",
       "\n",
       "Warnings:\n",
       "[1] Standard Errors assume that the covariance matrix of the errors is correctly specified.\n",
       "[2] The condition number is large, 2.05e+03. This might indicate that there are\n",
       "strong multicollinearity or other numerical problems.\n",
       "\"\"\""
      ]
     },
     "execution_count": 126,
     "metadata": {},
     "output_type": "execute_result"
    }
   ],
   "source": []
  },
  {
   "cell_type": "code",
   "execution_count": 149,
   "metadata": {
    "collapsed": false
   },
   "outputs": [
    {
     "name": "stdout",
     "output_type": "stream",
     "text": [
      "score\n",
      "0.0    473\n",
      "4.0      1\n",
      "4.7      1\n",
      "5.0      1\n",
      "5.1      3\n",
      "5.4      3\n",
      "5.5      1\n",
      "5.6      2\n",
      "5.7      6\n",
      "5.8      3\n",
      "5.9      8\n",
      "6.0      5\n",
      "6.1      6\n",
      "6.2      8\n",
      "6.3     13\n",
      "6.4     15\n",
      "6.5      8\n",
      "6.6     12\n",
      "6.7     19\n",
      "6.8     27\n",
      "6.9     15\n",
      "7.0     20\n",
      "7.1     22\n",
      "7.2     37\n",
      "7.3     21\n",
      "7.4     33\n",
      "7.5     22\n",
      "7.6     25\n",
      "7.7     27\n",
      "7.8     28\n",
      "7.9     27\n",
      "8.0     13\n",
      "8.1     16\n",
      "8.2     27\n",
      "8.3     15\n",
      "8.4     12\n",
      "8.5     10\n",
      "8.6     10\n",
      "8.7      8\n",
      "8.8      5\n",
      "8.9      9\n",
      "9.0      5\n",
      "9.1      2\n",
      "9.2      1\n",
      "9.3      2\n",
      "9.4      1\n",
      "9.5      1\n",
      "9.6      1\n",
      "Name: score, dtype: int64\n"
     ]
    }
   ],
   "source": [
    "dfscore=df.groupby(\"score\")[\"score\"].count()\n",
    "print(dfscore)\n"
   ]
  },
  {
   "cell_type": "code",
   "execution_count": 158,
   "metadata": {
    "collapsed": false
   },
   "outputs": [
    {
     "data": {
      "text/plain": [
       "<matplotlib.text.Text at 0x12bb472b0>"
      ]
     },
     "execution_count": 158,
     "metadata": {},
     "output_type": "execute_result"
    },
    {
     "data": {
      "image/png": "[encoded data removed]",
      "text/plain": [
       "<matplotlib.figure.Figure at 0x12c64bda0>"
      ]
     },
     "metadata": {},
     "output_type": "display_data"
    }
   ],
   "source": [
    "fig, ax = plt.subplots(1, 1, figsize=(12, 4))\n",
    "dfscore.plot(kind='line',ax=ax)\n",
    "ax1.set_xlabel(\"# cities in top 105\")"
   ]
  }
 ],
 "metadata": {
  "anaconda-cloud": {},
  "kernelspec": {
   "display_name": "Python [Root]",
   "language": "python",
   "name": "Python [Root]"
  },
  "language_info": {
   "codemirror_mode": {
    "name": "ipython",
    "version": 3
   },
   "file_extension": ".py",
   "mimetype": "text/x-python",
   "name": "python",
   "nbconvert_exporter": "python",
   "pygments_lexer": "ipython3",
   "version": "3.5.2"
  }
 },
 "nbformat": 4,
 "nbformat_minor": 0
}
